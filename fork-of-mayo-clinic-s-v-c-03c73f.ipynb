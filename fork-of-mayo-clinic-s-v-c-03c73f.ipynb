{
 "cells": [
  {
   "cell_type": "markdown",
   "id": "5b299cae",
   "metadata": {
    "papermill": {
     "duration": 0.011279,
     "end_time": "2022-10-05T00:57:14.179438",
     "exception": false,
     "start_time": "2022-10-05T00:57:14.168159",
     "status": "completed"
    },
    "tags": []
   },
   "source": [
    "# Please, upvote if you find the code useful :D"
   ]
  },
  {
   "cell_type": "code",
   "execution_count": 1,
   "id": "ffb95296",
   "metadata": {
    "execution": {
     "iopub.execute_input": "2022-10-05T00:57:14.200445Z",
     "iopub.status.busy": "2022-10-05T00:57:14.199617Z",
     "iopub.status.idle": "2022-10-05T01:00:12.335518Z",
     "shell.execute_reply": "2022-10-05T01:00:12.334395Z"
    },
    "papermill": {
     "duration": 178.150078,
     "end_time": "2022-10-05T01:00:12.338826",
     "exception": false,
     "start_time": "2022-10-05T00:57:14.188748",
     "status": "completed"
    },
    "tags": []
   },
   "outputs": [
    {
     "name": "stdout",
     "output_type": "stream",
     "text": [
      "\r\n",
      "Downloading and Extracting Packages\r\n",
      "######################################################################## | 100% \r\n",
      "######################################################################## | 100% \r\n",
      "######################################################################## | 100% \r\n",
      "######################################################################## | 100% \r\n",
      "######################################################################## | 100% \r\n",
      "######################################################################## | 100% \r\n",
      "######################################################################## | 100% \r\n",
      "######################################################################## | 100% \r\n",
      "######################################################################## | 100% \r\n",
      "######################################################################## | 100% \r\n",
      "######################################################################## | 100% \r\n",
      "######################################################################## | 100% \r\n",
      "######################################################################## | 100% \r\n",
      "######################################################################## | 100% \r\n",
      "######################################################################## | 100% \r\n",
      "######################################################################## | 100% \r\n",
      "######################################################################## | 100% \r\n",
      "######################################################################## | 100% \r\n",
      "######################################################################## | 100% \r\n",
      "######################################################################## | 100% \r\n",
      "######################################################################## | 100% \r\n",
      "######################################################################## | 100% \r\n",
      "Preparing transaction: - \b\b\\ \b\b| \b\b/ \b\b- \b\b\\ \b\b| \b\b/ \b\b- \b\bdone\r\n",
      "Verifying transaction: | \b\b/ \b\b- \b\b\\ \b\b| \b\b/ \b\b- \b\b\\ \b\b| \b\b/ \b\b- \b\b\\ \b\b| \b\b/ \b\b- \b\b\\ \b\b| \b\b/ \b\b- \b\b\\ \b\b| \b\b/ \b\b- \b\b\\ \b\b| \b\b/ \b\b- \b\b\\ \b\b| \b\b/ \b\b- \b\b\\ \b\b| \b\b/ \b\b- \b\b\\ \b\b| \b\b/ \b\b- \b\b\\ \b\b| \b\b/ \b\b- \b\b\\ \b\b| \b\bdone\r\n",
      "Executing transaction: - \b\b\\ \b\b| \b\b/ \b\b- \b\b\\ \b\b| \b\b/ \b\b- \b\b\\ \b\b| \b\b/ \b\b- \b\b\\ \b\b| \b\b/ \b\b- \b\b\\ \b\b| \b\b/ \b\b- \b\b\\ \b\b| \b\b/ \b\b- \b\b\\ \b\b| \b\b/ \b\b- \b\b\\ \b\b| \b\b/ \b\b- \b\b\\ \b\b| \b\b/ \b\b- \b\b\\ \b\b| \b\b/ \b\b- \b\b\\ \b\b| \b\bdone\r\n",
      "Retrieving notices: ...working... failed\r\n",
      "\r\n",
      "# >>>>>>>>>>>>>>>>>>>>>> ERROR REPORT <<<<<<<<<<<<<<<<<<<<<<\r\n",
      "\r\n",
      "    Traceback (most recent call last):\r\n",
      "      File \"/opt/conda/lib/python3.7/site-packages/urllib3/connection.py\", line 175, in _new_conn\r\n",
      "        (self._dns_host, self.port), self.timeout, **extra_kw\r\n",
      "      File \"/opt/conda/lib/python3.7/site-packages/urllib3/util/connection.py\", line 72, in create_connection\r\n",
      "        for res in socket.getaddrinfo(host, port, family, socket.SOCK_STREAM):\r\n",
      "      File \"/opt/conda/lib/python3.7/socket.py\", line 752, in getaddrinfo\r\n",
      "        for res in _socket.getaddrinfo(host, port, family, type, proto, flags):\r\n",
      "    socket.gaierror: [Errno -3] Temporary failure in name resolution\r\n",
      "    \r\n",
      "    During handling of the above exception, another exception occurred:\r\n",
      "    \r\n",
      "    Traceback (most recent call last):\r\n",
      "      File \"/opt/conda/lib/python3.7/site-packages/urllib3/connectionpool.py\", line 710, in urlopen\r\n",
      "        chunked=chunked,\r\n",
      "      File \"/opt/conda/lib/python3.7/site-packages/urllib3/connectionpool.py\", line 386, in _make_request\r\n",
      "        self._validate_conn(conn)\r\n",
      "      File \"/opt/conda/lib/python3.7/site-packages/urllib3/connectionpool.py\", line 1042, in _validate_conn\r\n",
      "        conn.connect()\r\n",
      "      File \"/opt/conda/lib/python3.7/site-packages/urllib3/connection.py\", line 358, in connect\r\n",
      "        self.sock = conn = self._new_conn()\r\n",
      "      File \"/opt/conda/lib/python3.7/site-packages/urllib3/connection.py\", line 187, in _new_conn\r\n",
      "        self, \"Failed to establish a new connection: %s\" % e\r\n",
      "    urllib3.exceptions.NewConnectionError: <urllib3.connection.HTTPSConnection object at 0x7f94ccf74b90>: Failed to establish a new connection: [Errno -3] Temporary failure in name resolution\r\n",
      "    \r\n",
      "    During handling of the above exception, another exception occurred:\r\n",
      "    \r\n",
      "    Traceback (most recent call last):\r\n",
      "      File \"/opt/conda/lib/python3.7/site-packages/requests/adapters.py\", line 499, in send\r\n",
      "        timeout=timeout,\r\n",
      "      File \"/opt/conda/lib/python3.7/site-packages/urllib3/connectionpool.py\", line 828, in urlopen\r\n",
      "        **response_kw\r\n",
      "      File \"/opt/conda/lib/python3.7/site-packages/urllib3/connectionpool.py\", line 828, in urlopen\r\n",
      "        **response_kw\r\n",
      "      File \"/opt/conda/lib/python3.7/site-packages/urllib3/connectionpool.py\", line 828, in urlopen\r\n",
      "        **response_kw\r\n",
      "      File \"/opt/conda/lib/python3.7/site-packages/urllib3/connectionpool.py\", line 788, in urlopen\r\n",
      "        method, url, error=e, _pool=self, _stacktrace=sys.exc_info()[2]\r\n",
      "      File \"/opt/conda/lib/python3.7/site-packages/urllib3/util/retry.py\", line 592, in increment\r\n",
      "        raise MaxRetryError(_pool, url, error or ResponseError(cause))\r\n",
      "    urllib3.exceptions.MaxRetryError: HTTPSConnectionPool(host='conda.anaconda.org', port=443): Max retries exceeded with url: /conda-forge/notices.json (Caused by NewConnectionError('<urllib3.connection.HTTPSConnection object at 0x7f94ccf74b90>: Failed to establish a new connection: [Errno -3] Temporary failure in name resolution'))\r\n",
      "    \r\n",
      "    During handling of the above exception, another exception occurred:\r\n",
      "    \r\n",
      "    Traceback (most recent call last):\r\n",
      "      File \"/opt/conda/lib/python3.7/site-packages/conda/exceptions.py\", line 1125, in __call__\r\n",
      "        return func(*args, **kwargs)\r\n",
      "      File \"/opt/conda/lib/python3.7/site-packages/conda/cli/main.py\", line 86, in main_subshell\r\n",
      "        exit_code = do_call(args, p)\r\n",
      "      File \"/opt/conda/lib/python3.7/site-packages/conda/cli/conda_argparse.py\", line 93, in do_call\r\n",
      "        return getattr(module, func_name)(args, parser)\r\n",
      "      File \"/opt/conda/lib/python3.7/site-packages/conda/notices/core.py\", line 78, in wrapper\r\n",
      "        silent=True,\r\n",
      "      File \"/opt/conda/lib/python3.7/site-packages/conda/notices/core.py\", line 39, in display_notices\r\n",
      "        channel_notice_responses = http.get_notice_responses(channel_name_urls, silent=silent)\r\n",
      "      File \"/opt/conda/lib/python3.7/site-packages/conda/notices/http.py\", line 42, in get_notice_responses\r\n",
      "        lambda args: get_channel_notice_response(*args), url_and_names\r\n",
      "      File \"/opt/conda/lib/python3.7/site-packages/conda/notices/http.py\", line 40, in <genexpr>\r\n",
      "        chn_info\r\n",
      "      File \"/opt/conda/lib/python3.7/concurrent/futures/_base.py\", line 598, in result_iterator\r\n",
      "        yield fs.pop().result()\r\n",
      "      File \"/opt/conda/lib/python3.7/concurrent/futures/_base.py\", line 435, in result\r\n",
      "        return self.__get_result()\r\n",
      "      File \"/opt/conda/lib/python3.7/concurrent/futures/_base.py\", line 384, in __get_result\r\n",
      "        raise self._exception\r\n",
      "      File \"/opt/conda/lib/python3.7/concurrent/futures/thread.py\", line 57, in run\r\n",
      "        result = self.fn(*self.args, **self.kwargs)\r\n",
      "      File \"/opt/conda/lib/python3.7/site-packages/conda/notices/http.py\", line 42, in <lambda>\r\n",
      "        lambda args: get_channel_notice_response(*args), url_and_names\r\n",
      "      File \"/opt/conda/lib/python3.7/site-packages/conda/notices/cache.py\", line 37, in wrapper\r\n",
      "        return_value = func(url, name)\r\n",
      "      File \"/opt/conda/lib/python3.7/site-packages/conda/notices/http.py\", line 58, in get_channel_notice_response\r\n",
      "        resp = session.get(url, allow_redirects=False, timeout=5)  # timeout: connect, read\r\n",
      "      File \"/opt/conda/lib/python3.7/site-packages/requests/sessions.py\", line 600, in get\r\n",
      "        return self.request(\"GET\", url, **kwargs)\r\n",
      "      File \"/opt/conda/lib/python3.7/site-packages/requests/sessions.py\", line 587, in request\r\n",
      "        resp = self.send(prep, **send_kwargs)\r\n",
      "      File \"/opt/conda/lib/python3.7/site-packages/requests/sessions.py\", line 701, in send\r\n",
      "        r = adapter.send(request, **kwargs)\r\n",
      "      File \"/opt/conda/lib/python3.7/site-packages/requests/adapters.py\", line 565, in send\r\n",
      "        raise ConnectionError(e, request=request)\r\n",
      "    requests.exceptions.ConnectionError: HTTPSConnectionPool(host='conda.anaconda.org', port=443): Max retries exceeded with url: /conda-forge/notices.json (Caused by NewConnectionError('<urllib3.connection.HTTPSConnection object at 0x7f94ccf74b90>: Failed to establish a new connection: [Errno -3] Temporary failure in name resolution'))\r\n",
      "\r\n",
      "`$ /opt/conda/bin/conda install ../input/packages/boost-cpp-1.74.0-h75c5d50_8.tar.bz2 ../input/packages/ca-certificates-2022.6.15.2-ha878542_0.tar.bz2 ../input/packages/certifi-2022.6.15.2-pyhd8ed1ab_0.tar.bz2 ../input/packages/cfitsio-4.1.0-hd9d235c_0.tar.bz2 ../input/packages/freetype-2.12.1-hca18f0e_0.tar.bz2 ../input/packages/glib-2.72.1-h6239696_0.tar.bz2 ../input/packages/glib-tools-2.72.1-h6239696_0.tar.bz2 ../input/packages/gstreamer-orc-0.4.32-h7f98852_1.tar.bz2 ../input/packages/hdf5-1.12.2-nompi_h2386368_100.tar.bz2 ../input/packages/libexif-0.6.21-h7f98852_0.tar.bz2 ../input/packages/libgsf-1.14.50-he99f2b3_0.tar.bz2 ../input/packages/libmatio-1.5.23-h63e3022_1.tar.bz2 ../input/packages/libvips-8.13.1-h90b0b56_1.tar.bz2 ../input/packages/libwebp-1.2.4-h522a892_0.tar.bz2 ../input/packages/libwebp-base-1.2.4-h166bdaf_0.tar.bz2 ../input/packages/nspr-4.32-h9c3ff4c_1.tar.bz2 ../input/packages/nss-3.78-h2350873_0.tar.bz2 ../input/packages/openslide-3.4.1-h978ee9a_4.tar.bz2 ../input/packages/pkgconfig-1.5.5-py37h89c1867_2.tar.bz2 ../input/packages/poppler-22.04.0-h1434ded_1.tar.bz2 ../input/packages/poppler-data-0.4.11-hd8ed1ab_0.tar.bz2 ../input/packages/pyvips-2.2.1-py37had655be_0.tar.bz2`\r\n",
      "\r\n",
      "  environment variables:\r\n",
      "                 CIO_TEST=<not set>\r\n",
      "               CONDA_ROOT=/opt/conda\r\n",
      "           CURL_CA_BUNDLE=<not set>\r\n",
      "          LD_LIBRARY_PATH=/usr/local/cuda/lib64:/usr/local/cuda/lib:/usr/local/lib/x86_64-linux-\r\n",
      "                          gnu:/usr/local/nvidia/lib:/usr/local/nvidia/lib64:\r\n",
      "                     PATH=/opt/conda/bin:/usr/local/sbin:/usr/local/bin:/usr/sbin:/usr/bin:/sbin\r\n",
      "                          :/bin\r\n",
      "               PYTHONPATH=/kaggle/lib/kagglegym:/kaggle/lib:/kaggle/input/mayo-clinic-strip-ai\r\n",
      "           PYTHONUSERBASE=/root/.local\r\n",
      "       REQUESTS_CA_BUNDLE=<not set>\r\n",
      "            SSL_CERT_FILE=<not set>\r\n",
      "           TESSERACT_PATH=/usr/bin/tesseract\r\n",
      "\r\n",
      "     active environment : None\r\n",
      "       user config file : /root/.condarc\r\n",
      " populated config files : /opt/conda/.condarc\r\n",
      "                          /root/.condarc\r\n",
      "          conda version : 4.14.0\r\n",
      "    conda-build version : not installed\r\n",
      "         python version : 3.7.12.final.0\r\n",
      "       virtual packages : __linux=5.15.65=0\r\n",
      "                          __glibc=2.31=0\r\n",
      "                          __unix=0=0\r\n",
      "                          __archspec=1=x86_64\r\n",
      "       base environment : /opt/conda  (writable)\r\n",
      "      conda av data dir : /opt/conda/etc/conda\r\n",
      "  conda av metadata url : None\r\n",
      "           channel URLs : https://conda.anaconda.org/rapidsai/linux-64\r\n",
      "                          https://conda.anaconda.org/rapidsai/noarch\r\n",
      "                          https://conda.anaconda.org/nvidia/linux-64\r\n",
      "                          https://conda.anaconda.org/nvidia/noarch\r\n",
      "                          https://conda.anaconda.org/conda-forge/linux-64\r\n",
      "                          https://conda.anaconda.org/conda-forge/noarch\r\n",
      "                          https://repo.anaconda.com/pkgs/main/linux-64\r\n",
      "                          https://repo.anaconda.com/pkgs/main/noarch\r\n",
      "                          https://repo.anaconda.com/pkgs/r/linux-64\r\n",
      "                          https://repo.anaconda.com/pkgs/r/noarch\r\n",
      "          package cache : /opt/conda/pkgs\r\n",
      "                          /root/.conda/pkgs\r\n",
      "       envs directories : /opt/conda/envs\r\n",
      "                          /root/.conda/envs\r\n",
      "               platform : linux-64\r\n",
      "             user-agent : conda/4.14.0 requests/2.28.1 CPython/3.7.12 Linux/5.15.65+ ubuntu/20.04.4 glibc/2.31\r\n",
      "                UID:GID : 0:0\r\n",
      "             netrc file : None\r\n",
      "           offline mode : False\r\n",
      "\r\n",
      "\r\n",
      "An unexpected error has occurred. Conda has prepared the above report.\r\n",
      "\r\n",
      "If submitted, this report will be used by core maintainers to improve\r\n",
      "future releases of conda.\r\n",
      "Would you like conda to send this report to the core maintainers?\r\n",
      "\r\n",
      "[y/N]: \r\n",
      "Timeout reached. No report sent.\r\n",
      "\r\n"
     ]
    }
   ],
   "source": [
    "!conda install ../input/packages/*.tar.bz2\n",
    "# Note that \"*.tar.bz2\" should be the directory of your binary notebook outputs\n",
    "# e.g. (../input/{notebook_name}/*.tar.bz2)"
   ]
  },
  {
   "cell_type": "code",
   "execution_count": 2,
   "id": "773f3270",
   "metadata": {
    "execution": {
     "iopub.execute_input": "2022-10-05T01:00:12.374274Z",
     "iopub.status.busy": "2022-10-05T01:00:12.373827Z",
     "iopub.status.idle": "2022-10-05T01:00:49.532589Z",
     "shell.execute_reply": "2022-10-05T01:00:49.530108Z"
    },
    "papermill": {
     "duration": 37.183656,
     "end_time": "2022-10-05T01:00:49.539015",
     "exception": false,
     "start_time": "2022-10-05T01:00:12.355359",
     "status": "completed"
    },
    "tags": []
   },
   "outputs": [],
   "source": [
    "\n",
    "import dill\n",
    "dill.load_session('../input/joselito/your_bk_dill.pkl')"
   ]
  },
  {
   "cell_type": "code",
   "execution_count": 3,
   "id": "c30b6ca8",
   "metadata": {
    "execution": {
     "iopub.execute_input": "2022-10-05T01:00:49.581709Z",
     "iopub.status.busy": "2022-10-05T01:00:49.579934Z",
     "iopub.status.idle": "2022-10-05T01:00:49.588046Z",
     "shell.execute_reply": "2022-10-05T01:00:49.586755Z"
    },
    "papermill": {
     "duration": 0.030538,
     "end_time": "2022-10-05T01:00:49.590581",
     "exception": false,
     "start_time": "2022-10-05T01:00:49.560043",
     "status": "completed"
    },
    "tags": []
   },
   "outputs": [],
   "source": [
    "#!pip install pyvips"
   ]
  },
  {
   "cell_type": "code",
   "execution_count": 4,
   "id": "2673aa08",
   "metadata": {
    "execution": {
     "iopub.execute_input": "2022-10-05T01:00:49.625756Z",
     "iopub.status.busy": "2022-10-05T01:00:49.624986Z",
     "iopub.status.idle": "2022-10-05T01:00:57.018787Z",
     "shell.execute_reply": "2022-10-05T01:00:57.017505Z"
    },
    "papermill": {
     "duration": 7.414924,
     "end_time": "2022-10-05T01:00:57.022053",
     "exception": false,
     "start_time": "2022-10-05T01:00:49.607129",
     "status": "completed"
    },
    "tags": []
   },
   "outputs": [
    {
     "name": "stdout",
     "output_type": "stream",
     "text": [
      "\r\n",
      "PackageNotInstalledError: Package is not installed in prefix.\r\n",
      "  prefix: /opt/conda\r\n",
      "  package name: libvips42\r\n",
      "\r\n",
      "\r\n"
     ]
    }
   ],
   "source": [
    "!conda update libvips42"
   ]
  },
  {
   "cell_type": "code",
   "execution_count": 5,
   "id": "344cc4a5",
   "metadata": {
    "execution": {
     "iopub.execute_input": "2022-10-05T01:00:57.061813Z",
     "iopub.status.busy": "2022-10-05T01:00:57.061335Z",
     "iopub.status.idle": "2022-10-05T01:00:57.066837Z",
     "shell.execute_reply": "2022-10-05T01:00:57.065437Z"
    },
    "papermill": {
     "duration": 0.028461,
     "end_time": "2022-10-05T01:00:57.068976",
     "exception": false,
     "start_time": "2022-10-05T01:00:57.040515",
     "status": "completed"
    },
    "tags": []
   },
   "outputs": [],
   "source": [
    "#!pip install meson\n",
    "\n",
    "\n"
   ]
  },
  {
   "cell_type": "code",
   "execution_count": 6,
   "id": "73fe4bd2",
   "metadata": {
    "execution": {
     "iopub.execute_input": "2022-10-05T01:00:57.104075Z",
     "iopub.status.busy": "2022-10-05T01:00:57.103608Z",
     "iopub.status.idle": "2022-10-05T01:00:57.109533Z",
     "shell.execute_reply": "2022-10-05T01:00:57.108288Z"
    },
    "papermill": {
     "duration": 0.026414,
     "end_time": "2022-10-05T01:00:57.111896",
     "exception": false,
     "start_time": "2022-10-05T01:00:57.085482",
     "status": "completed"
    },
    "tags": []
   },
   "outputs": [],
   "source": [
    "#!pip install --user pyvips"
   ]
  },
  {
   "cell_type": "code",
   "execution_count": 7,
   "id": "f837779d",
   "metadata": {
    "execution": {
     "iopub.execute_input": "2022-10-05T01:00:57.147950Z",
     "iopub.status.busy": "2022-10-05T01:00:57.147464Z",
     "iopub.status.idle": "2022-10-05T01:00:57.152849Z",
     "shell.execute_reply": "2022-10-05T01:00:57.151775Z"
    },
    "papermill": {
     "duration": 0.027022,
     "end_time": "2022-10-05T01:00:57.155962",
     "exception": false,
     "start_time": "2022-10-05T01:00:57.128940",
     "status": "completed"
    },
    "tags": []
   },
   "outputs": [],
   "source": [
    "#!conda install --channel conda-forge pyvips -y"
   ]
  },
  {
   "cell_type": "code",
   "execution_count": 8,
   "id": "e70d134d",
   "metadata": {
    "execution": {
     "iopub.execute_input": "2022-10-05T01:00:57.195501Z",
     "iopub.status.busy": "2022-10-05T01:00:57.194051Z",
     "iopub.status.idle": "2022-10-05T01:00:57.559892Z",
     "shell.execute_reply": "2022-10-05T01:00:57.558512Z"
    },
    "papermill": {
     "duration": 0.388506,
     "end_time": "2022-10-05T01:00:57.562872",
     "exception": false,
     "start_time": "2022-10-05T01:00:57.174366",
     "status": "completed"
    },
    "tags": []
   },
   "outputs": [],
   "source": [
    "import pyvips\n",
    "# import _libvips\n",
    "# image = pyvips.Image.new_from_file('../input/mayo-clinic-strip-ai/test/006388_0.tif', access='sequential')\n",
    "# image.write_to_file('x.jpg')"
   ]
  },
  {
   "cell_type": "code",
   "execution_count": 9,
   "id": "39c594ec",
   "metadata": {
    "execution": {
     "iopub.execute_input": "2022-10-05T01:00:57.598327Z",
     "iopub.status.busy": "2022-10-05T01:00:57.597800Z",
     "iopub.status.idle": "2022-10-05T01:00:57.603073Z",
     "shell.execute_reply": "2022-10-05T01:00:57.601813Z"
    },
    "papermill": {
     "duration": 0.026287,
     "end_time": "2022-10-05T01:00:57.605870",
     "exception": false,
     "start_time": "2022-10-05T01:00:57.579583",
     "status": "completed"
    },
    "tags": []
   },
   "outputs": [],
   "source": [
    "# print(image)"
   ]
  },
  {
   "cell_type": "code",
   "execution_count": 10,
   "id": "9dc65af9",
   "metadata": {
    "execution": {
     "iopub.execute_input": "2022-10-05T01:00:57.640275Z",
     "iopub.status.busy": "2022-10-05T01:00:57.639804Z",
     "iopub.status.idle": "2022-10-05T01:00:57.699440Z",
     "shell.execute_reply": "2022-10-05T01:00:57.698140Z"
    },
    "papermill": {
     "duration": 0.080051,
     "end_time": "2022-10-05T01:00:57.702166",
     "exception": false,
     "start_time": "2022-10-05T01:00:57.622115",
     "status": "completed"
    },
    "tags": []
   },
   "outputs": [],
   "source": [
    "director = '../input/mayo-clinic-strip-ai/train'\n",
    "case = os.listdir(director)[0:3]\n",
    "case\n",
    "file_name = []\n",
    "image_matrix = []\n",
    "\n",
    "#from pathlib import Path\n",
    "#for f in Path('./').glob('*.jpg'):\n",
    "#    try:\n",
    "#        f.unlink()\n",
    " #   except OSError as e:\n",
    " #       print('Error')\n",
    "        \n",
    "#dirs = [\"../input/mayo-clinic-strip-ai/train/\", \"../input/mayo-clinic-strip-ai/test/\"]\n",
    "#df_test = df_train.copy()\n",
    "#df_test = pd.read_csv('../input/mayo-clinic-strip-ai/test.csv')\n",
    "#try:\n",
    "  #  os.mkdir(\"'../test/'\")\n",
    "#except:\n",
    "#    pass\n",
    "#for i in tqdm(range(df_test.shape[0])):\n",
    "#    img_id = df_test.iloc[i].image_id\n",
    "#    try:\n",
    " #       sz = os.path.getsize(dirs[1] + img_id + \".tif\")\n",
    " #   except:\n",
    "#        sz = 1000000000\n",
    "#    if(sz > 8e8):\n",
    "  #      img = np.zeros((512,512,3), np.uint8)\n",
    "  #  else:\n",
    "  #      try:\n",
    " #           img = cv2.resize(tifffile.imread(dirs[1] + img_id + \".tif\"), (512, 512))\n",
    "   #     except:\n",
    " #           img = np.zeros((512,512,3), np.uint8)\n",
    "  #  cv2.imwrite(f\"../test/{img_id}.jpg\", img)\n",
    "  #  del img\n",
    "   # gc.collect()"
   ]
  },
  {
   "cell_type": "code",
   "execution_count": 11,
   "id": "e6728068",
   "metadata": {
    "execution": {
     "iopub.execute_input": "2022-10-05T01:00:57.736438Z",
     "iopub.status.busy": "2022-10-05T01:00:57.735938Z",
     "iopub.status.idle": "2022-10-05T01:00:57.740798Z",
     "shell.execute_reply": "2022-10-05T01:00:57.739837Z"
    },
    "papermill": {
     "duration": 0.02473,
     "end_time": "2022-10-05T01:00:57.743008",
     "exception": false,
     "start_time": "2022-10-05T01:00:57.718278",
     "status": "completed"
    },
    "tags": []
   },
   "outputs": [],
   "source": [
    "# try:\n",
    "#     size = os.path.getsize(image_path)\n",
    "# except:\n",
    "#     size = 2*1e9\n",
    "    \n",
    "# if(size > 1.2*1e9):\n",
    "#     df['CE'] = 0.5\n",
    "#     df['LAA'] = 0.5\n",
    "# else:\n",
    "#     try:\n",
    "#         #code\n",
    "        \n",
    "#     except:\n",
    "#         df['CE'] = 0.5\n",
    "#         df['LAA'] = 0.5"
   ]
  },
  {
   "cell_type": "code",
   "execution_count": 12,
   "id": "b65f74da",
   "metadata": {
    "execution": {
     "iopub.execute_input": "2022-10-05T01:00:57.779068Z",
     "iopub.status.busy": "2022-10-05T01:00:57.777791Z",
     "iopub.status.idle": "2022-10-05T01:05:11.260024Z",
     "shell.execute_reply": "2022-10-05T01:05:11.258756Z"
    },
    "papermill": {
     "duration": 253.504123,
     "end_time": "2022-10-05T01:05:11.263462",
     "exception": false,
     "start_time": "2022-10-05T01:00:57.759339",
     "status": "completed"
    },
    "tags": []
   },
   "outputs": [
    {
     "name": "stdout",
     "output_type": "stream",
     "text": [
      "755.tif\n",
      "756.tif\n",
      "757.tif\n"
     ]
    }
   ],
   "source": [
    "import os\n",
    "half = len(case)//3\n",
    "holf = 2*len(case)//3\n",
    "for i in case[0:half]:\n",
    "    im1 = []\n",
    "    directory_ = '../input/mayo-clinic-strip-ai/train/'\n",
    "    imagenes = os.listdir(directory_)\n",
    "    k = k+1\n",
    "    im1 = pyvips.Image.new_from_file('../input/mayo-clinic-strip-ai/train/'+ i, access='sequential')\n",
    "    im1.write_to_file(str(k)+'.tif',tile=True, compression=\"jpeg\")\n",
    "    del im1\n",
    "    gc.collect()\n",
    "    \n",
    "    \n",
    "    \n",
    "    \n",
    "df_test = df_train.copy()\n",
    "\n",
    "labels = []\n",
    "names = []\n",
    "for i in range(len(df_test['patient_id'])):\n",
    "    labels.append(df_train['label'][i])\n",
    "    names.append(df_test['patient_id'][i])\n",
    "labels_code = []\n",
    "for i in labels:\n",
    "    labels_code.append(labels.index(i))\n",
    "\n",
    "datadir='./' \n",
    "flat_data_arr=[] \n",
    "target_arr=[] \n",
    "path=datadir\n",
    "for img in os.listdir(path):\n",
    "    if os.path.isfile(path + img)==True:\n",
    "        if imghdr.what(img)=='tiff':\n",
    "            print(img)\n",
    "            im1 = pyvips.Image.new_from_file(path + img, access='sequential')\n",
    "            im1_ = pyvips.Image.thumbnail(img, 200, height=300, size=\"both\") \n",
    "            im1___ = np.asarray(im1_)\n",
    "#             img_array=skio.imread(path + img)\n",
    "#             img_array=iio.imread(img)\n",
    "            img_resized=resize(im1___,(150,150,3))\n",
    "            flat_data_arr.append(img_resized.flatten())\n",
    "for img in os.listdir('./'): \n",
    "    try:\n",
    "        os.remove(img)\n",
    "    except:\n",
    "        print('hi')\n",
    "\n",
    "    \n",
    "for i in case[half:holf]:\n",
    "    im1 = []\n",
    "    directory_ = '../input/mayo-clinic-strip-ai/train/'\n",
    "    imagenes = os.listdir(directory_)\n",
    "    k = k+1\n",
    "    im1 = pyvips.Image.new_from_file('../input/mayo-clinic-strip-ai/train/'+ i, access='sequential')\n",
    "    im1.write_to_file(str(k)+'.tif',tile=True, compression=\"jpeg\")\n",
    "    del im1\n",
    "    gc.collect()\n",
    "for img in os.listdir(path):\n",
    "    if os.path.isfile(path + img)==True:\n",
    "        if imghdr.what(img)=='tiff':\n",
    "            print(img)\n",
    "            im1 = pyvips.Image.new_from_file(path + img, access='sequential')\n",
    "            im1_ = pyvips.Image.thumbnail(img, 200, height=300, size=\"both\") \n",
    "            im1___ = np.asarray(im1_)\n",
    "#             img_array=skio.imread(path + img)\n",
    "#             img_array=iio.imread(img)\n",
    "            img_resized=resize(im1___,(150,150,3))\n",
    "            flat_data_arr.append(img_resized.flatten())  \n",
    "for img in os.listdir('./'): \n",
    "    try:\n",
    "        os.remove(img)\n",
    "    except:\n",
    "        print('hols')\n",
    "    \n",
    "    \n",
    "for i in case[holf:len(case)]:\n",
    "    im1 = []\n",
    "    directory_ = '../input/mayo-clinic-strip-ai/train/'\n",
    "    imagenes = os.listdir(directory_)\n",
    "    k = k+1\n",
    "    im1 = pyvips.Image.new_from_file('../input/mayo-clinic-strip-ai/train/'+ i, access='sequential')\n",
    "    im1.write_to_file(str(k)+\".tif\",tile=True, compression=\"jpeg\")\n",
    "    del im1\n",
    "    gc.collect()\n",
    "for img in os.listdir(path):\n",
    "    if os.path.isfile(path + img)==True:\n",
    "        if imghdr.what(img)=='tiff':\n",
    "            print(img)\n",
    "            im1 = pyvips.Image.new_from_file(path + img, access='sequential')\n",
    "            im1_ = pyvips.Image.thumbnail(img, 200, height=300, size=\"both\") \n",
    "            im1___ = np.asarray(im1_)\n",
    "#             img_array=skio.imread(path + img)\n",
    "#             img_array=iio.imread(img)\n",
    "            img_resized=resize(im1___,(150,150,3))\n",
    "            flat_data_arr.append(img_resized.flatten())\n",
    "#for img in os.listdir('./'):        \n",
    "   # os.remove(img)"
   ]
  },
  {
   "cell_type": "code",
   "execution_count": 13,
   "id": "40c85662",
   "metadata": {
    "execution": {
     "iopub.execute_input": "2022-10-05T01:05:11.299164Z",
     "iopub.status.busy": "2022-10-05T01:05:11.298693Z",
     "iopub.status.idle": "2022-10-05T01:05:11.304078Z",
     "shell.execute_reply": "2022-10-05T01:05:11.303146Z"
    },
    "papermill": {
     "duration": 0.026123,
     "end_time": "2022-10-05T01:05:11.306135",
     "exception": false,
     "start_time": "2022-10-05T01:05:11.280012",
     "status": "completed"
    },
    "tags": []
   },
   "outputs": [],
   "source": [
    "# half = len(case)//2\n",
    "# for i in case[0:half]:\n",
    "#     im1 = []\n",
    "#     directory_ = '../input/mayo-clinic-strip-ai/test/'\n",
    "#     imagenes = os.listdir(directory_)\n",
    "#     k = k+1\n",
    "#     im1 = skio.imread('../input/mayo-clinic-strip-ai/test/'+ i)\n",
    "#     res = cv2.resize(im1, dsize=(170, 304), interpolation=cv2.INTER_CUBIC)\n",
    "#     cv2.imwrite(str(k)+'.jpg', res)\n",
    "#     del im1\n",
    "#     del res\n",
    "#     gc.collect()\n",
    "    \n",
    "# for i in case[half:len(case)]:\n",
    "#     im1 = []\n",
    "#     directory_ = '../input/mayo-clinic-strip-ai/test/'\n",
    "#     imagenes = os.listdir(directory_)\n",
    "#     k = k+1\n",
    "#     im1 = skio.imread('../input/mayo-clinic-strip-ai/test/'+ i)\n",
    "#     res = cv2.resize(im1, dsize=(170, 304), interpolation=cv2.INTER_CUBIC)\n",
    "#     cv2.imwrite(str(k)+'.jpg', res)\n",
    "#     del im1\n",
    "#     del res\n",
    "#     gc.collect()"
   ]
  },
  {
   "cell_type": "code",
   "execution_count": 14,
   "id": "d3aceb31",
   "metadata": {
    "execution": {
     "iopub.execute_input": "2022-10-05T01:05:11.341745Z",
     "iopub.status.busy": "2022-10-05T01:05:11.340946Z",
     "iopub.status.idle": "2022-10-05T01:05:11.345664Z",
     "shell.execute_reply": "2022-10-05T01:05:11.344856Z"
    },
    "papermill": {
     "duration": 0.025225,
     "end_time": "2022-10-05T01:05:11.347866",
     "exception": false,
     "start_time": "2022-10-05T01:05:11.322641",
     "status": "completed"
    },
    "tags": []
   },
   "outputs": [],
   "source": [
    "# for i in case:\n",
    "#     try:\n",
    "#         size = os.path.getsize(i)\n",
    "#     except:\n",
    "#         size = 2*1e9\n",
    "    \n",
    "#     if(size > 1.2*1e9):\n",
    "#         df['CE'] = 0.5\n",
    "#         df['LAA'] = 0.5\n",
    "#     else:\n",
    "#         try:\n",
    "#             im1 = []\n",
    "#             directory_ = '../input/mayo-clinic-strip-ai/test/'\n",
    "#             imagenes = os.listdir(directory_)\n",
    "#             k = k+1\n",
    "#             im1 = pyvips.Image.new_from_file('../input/mayo-clinic-strip-ai/test/'+ i, access='sequential')\n",
    "#             im1.write_to_file(str(k)+'.jpg')\n",
    "#             del im1\n",
    "#             gc.collect()\n",
    "#         except:\n",
    "#             df['CE'] = 0.5\n",
    "#             df['LAA'] = 0.5"
   ]
  },
  {
   "cell_type": "code",
   "execution_count": 15,
   "id": "89fa5109",
   "metadata": {
    "execution": {
     "iopub.execute_input": "2022-10-05T01:05:11.384538Z",
     "iopub.status.busy": "2022-10-05T01:05:11.383740Z",
     "iopub.status.idle": "2022-10-05T01:05:11.394878Z",
     "shell.execute_reply": "2022-10-05T01:05:11.393895Z"
    },
    "papermill": {
     "duration": 0.031822,
     "end_time": "2022-10-05T01:05:11.397385",
     "exception": false,
     "start_time": "2022-10-05T01:05:11.365563",
     "status": "completed"
    },
    "tags": []
   },
   "outputs": [],
   "source": [
    "# df_test = df_train.copy()\n",
    "\n",
    "# labels = []\n",
    "# names = []\n",
    "# for i in range(len(df_test['patient_id'])):\n",
    "#     labels.append(df_train['label'][i])\n",
    "#     names.append(df_test['patient_id'][i])\n",
    "# labels_code = []\n",
    "# for i in labels:\n",
    "#     labels_code.append(labels.index(i))\n",
    "\n",
    "# datadir='./' \n",
    "# flat_data_arr=[] \n",
    "# target_arr=[] \n",
    "# path=datadir\n",
    "# for img in os.listdir(path):\n",
    "#     if os.path.isfile(path + img)==True:\n",
    "#         if imghdr.what(img)=='tif':\n",
    "#             print(img)\n",
    "#             im1 = pyvips.Image.new_from_file(path + img, access='sequential')\n",
    "#             im1_ = pyvips.Image.thumbnail(img, 200, height=300, size=\"both\") \n",
    "#             im1___ = np.asarray(im1_)\n",
    "# #             img_array=skio.imread(path + img)\n",
    "# #             img_array=iio.imread(img)\n",
    "#             img_resized=resize(im1___,(150,150,3))\n",
    "#             flat_data_arr.append(img_resized.flatten())\n",
    "flat_data=np.array(flat_data_arr)\n",
    "target=np.array(labels_code)\n",
    "df = df_train.copy()\n",
    "df=pd.DataFrame(flat_data) \n",
    "df.head()\n",
    "#df['Target']=target\n",
    "#df.drop_duplicates(subset=['patient_id'], keep='last')\n",
    "xtest=df.iloc[:,:] \n",
    "ytest=df.iloc[:,-1]"
   ]
  },
  {
   "cell_type": "code",
   "execution_count": null,
   "id": "c534ece3",
   "metadata": {
    "papermill": {
     "duration": 0.016069,
     "end_time": "2022-10-05T01:05:11.429845",
     "exception": false,
     "start_time": "2022-10-05T01:05:11.413776",
     "status": "completed"
    },
    "tags": []
   },
   "outputs": [],
   "source": []
  },
  {
   "cell_type": "code",
   "execution_count": 16,
   "id": "e134bf96",
   "metadata": {
    "execution": {
     "iopub.execute_input": "2022-10-05T01:05:11.465256Z",
     "iopub.status.busy": "2022-10-05T01:05:11.464399Z",
     "iopub.status.idle": "2022-10-05T01:05:11.470017Z",
     "shell.execute_reply": "2022-10-05T01:05:11.468769Z"
    },
    "papermill": {
     "duration": 0.026477,
     "end_time": "2022-10-05T01:05:11.472614",
     "exception": false,
     "start_time": "2022-10-05T01:05:11.446137",
     "status": "completed"
    },
    "tags": []
   },
   "outputs": [],
   "source": [
    "import gc\n",
    "from PIL import Image\n",
    "from tqdm.auto import tqdm\n",
    "import os, glob"
   ]
  },
  {
   "cell_type": "code",
   "execution_count": 17,
   "id": "fd904e78",
   "metadata": {
    "execution": {
     "iopub.execute_input": "2022-10-05T01:05:11.507832Z",
     "iopub.status.busy": "2022-10-05T01:05:11.507318Z",
     "iopub.status.idle": "2022-10-05T01:05:11.542941Z",
     "shell.execute_reply": "2022-10-05T01:05:11.541662Z"
    },
    "papermill": {
     "duration": 0.057684,
     "end_time": "2022-10-05T01:05:11.546641",
     "exception": false,
     "start_time": "2022-10-05T01:05:11.488957",
     "status": "completed"
    },
    "tags": []
   },
   "outputs": [
    {
     "data": {
      "text/html": [
       "<div>\n",
       "<style scoped>\n",
       "    .dataframe tbody tr th:only-of-type {\n",
       "        vertical-align: middle;\n",
       "    }\n",
       "\n",
       "    .dataframe tbody tr th {\n",
       "        vertical-align: top;\n",
       "    }\n",
       "\n",
       "    .dataframe thead th {\n",
       "        text-align: right;\n",
       "    }\n",
       "</style>\n",
       "<table border=\"1\" class=\"dataframe\">\n",
       "  <thead>\n",
       "    <tr style=\"text-align: right;\">\n",
       "      <th></th>\n",
       "      <th>0</th>\n",
       "      <th>1</th>\n",
       "      <th>2</th>\n",
       "      <th>3</th>\n",
       "      <th>4</th>\n",
       "      <th>5</th>\n",
       "      <th>6</th>\n",
       "      <th>7</th>\n",
       "      <th>8</th>\n",
       "      <th>9</th>\n",
       "      <th>...</th>\n",
       "      <th>67490</th>\n",
       "      <th>67491</th>\n",
       "      <th>67492</th>\n",
       "      <th>67493</th>\n",
       "      <th>67494</th>\n",
       "      <th>67495</th>\n",
       "      <th>67496</th>\n",
       "      <th>67497</th>\n",
       "      <th>67498</th>\n",
       "      <th>67499</th>\n",
       "    </tr>\n",
       "  </thead>\n",
       "  <tbody>\n",
       "    <tr>\n",
       "      <th>0</th>\n",
       "      <td>1.000000</td>\n",
       "      <td>1.000000</td>\n",
       "      <td>1.000000</td>\n",
       "      <td>1.000000</td>\n",
       "      <td>1.000000</td>\n",
       "      <td>1.000000</td>\n",
       "      <td>1.000000</td>\n",
       "      <td>1.000000</td>\n",
       "      <td>1.000000</td>\n",
       "      <td>1.000000</td>\n",
       "      <td>...</td>\n",
       "      <td>1.000000</td>\n",
       "      <td>1.000000</td>\n",
       "      <td>1.000000</td>\n",
       "      <td>1.000000</td>\n",
       "      <td>1.000000</td>\n",
       "      <td>1.000000</td>\n",
       "      <td>1.000000</td>\n",
       "      <td>1.000000</td>\n",
       "      <td>1.000000</td>\n",
       "      <td>1.000000</td>\n",
       "    </tr>\n",
       "    <tr>\n",
       "      <th>1</th>\n",
       "      <td>1.000000</td>\n",
       "      <td>1.000000</td>\n",
       "      <td>1.000000</td>\n",
       "      <td>1.000000</td>\n",
       "      <td>1.000000</td>\n",
       "      <td>1.000000</td>\n",
       "      <td>1.000000</td>\n",
       "      <td>1.000000</td>\n",
       "      <td>1.000000</td>\n",
       "      <td>1.000000</td>\n",
       "      <td>...</td>\n",
       "      <td>1.000000</td>\n",
       "      <td>1.000000</td>\n",
       "      <td>1.000000</td>\n",
       "      <td>1.000000</td>\n",
       "      <td>1.000000</td>\n",
       "      <td>1.000000</td>\n",
       "      <td>1.000000</td>\n",
       "      <td>1.000000</td>\n",
       "      <td>1.000000</td>\n",
       "      <td>1.000000</td>\n",
       "    </tr>\n",
       "    <tr>\n",
       "      <th>2</th>\n",
       "      <td>0.952941</td>\n",
       "      <td>0.953166</td>\n",
       "      <td>0.952941</td>\n",
       "      <td>0.951654</td>\n",
       "      <td>0.953614</td>\n",
       "      <td>0.952941</td>\n",
       "      <td>0.952512</td>\n",
       "      <td>0.952941</td>\n",
       "      <td>0.952941</td>\n",
       "      <td>0.952288</td>\n",
       "      <td>...</td>\n",
       "      <td>0.950795</td>\n",
       "      <td>0.945098</td>\n",
       "      <td>0.949244</td>\n",
       "      <td>0.951819</td>\n",
       "      <td>0.940562</td>\n",
       "      <td>0.946444</td>\n",
       "      <td>0.949693</td>\n",
       "      <td>0.938172</td>\n",
       "      <td>0.943547</td>\n",
       "      <td>0.946444</td>\n",
       "    </tr>\n",
       "  </tbody>\n",
       "</table>\n",
       "<p>3 rows × 67500 columns</p>\n",
       "</div>"
      ],
      "text/plain": [
       "      0         1         2         3         4         5         6      \\\n",
       "0  1.000000  1.000000  1.000000  1.000000  1.000000  1.000000  1.000000   \n",
       "1  1.000000  1.000000  1.000000  1.000000  1.000000  1.000000  1.000000   \n",
       "2  0.952941  0.953166  0.952941  0.951654  0.953614  0.952941  0.952512   \n",
       "\n",
       "      7         8         9      ...     67490     67491     67492     67493  \\\n",
       "0  1.000000  1.000000  1.000000  ...  1.000000  1.000000  1.000000  1.000000   \n",
       "1  1.000000  1.000000  1.000000  ...  1.000000  1.000000  1.000000  1.000000   \n",
       "2  0.952941  0.952941  0.952288  ...  0.950795  0.945098  0.949244  0.951819   \n",
       "\n",
       "      67494     67495     67496     67497     67498     67499  \n",
       "0  1.000000  1.000000  1.000000  1.000000  1.000000  1.000000  \n",
       "1  1.000000  1.000000  1.000000  1.000000  1.000000  1.000000  \n",
       "2  0.940562  0.946444  0.949693  0.938172  0.943547  0.946444  \n",
       "\n",
       "[3 rows x 67500 columns]"
      ]
     },
     "execution_count": 17,
     "metadata": {},
     "output_type": "execute_result"
    }
   ],
   "source": [
    "xtest"
   ]
  },
  {
   "cell_type": "code",
   "execution_count": 18,
   "id": "8d75e751",
   "metadata": {
    "execution": {
     "iopub.execute_input": "2022-10-05T01:05:11.583648Z",
     "iopub.status.busy": "2022-10-05T01:05:11.583144Z",
     "iopub.status.idle": "2022-10-05T01:05:12.522054Z",
     "shell.execute_reply": "2022-10-05T01:05:12.520448Z"
    },
    "papermill": {
     "duration": 0.964004,
     "end_time": "2022-10-05T01:05:12.527685",
     "exception": false,
     "start_time": "2022-10-05T01:05:11.563681",
     "status": "completed"
    },
    "tags": []
   },
   "outputs": [
    {
     "name": "stdout",
     "output_type": "stream",
     "text": [
      "The predicted Data is :\n",
      "[[0.71932979 0.28067021]\n",
      " [0.72367038 0.27632962]\n",
      " [0.72192081 0.27807919]]\n",
      "The actual data is:\n",
      "[1.         1.         0.94644444]\n",
      "                  CE       LAA\n",
      "patient_id                    \n",
      "006388      0.719330  0.280670\n",
      "008e5c      0.723670  0.276330\n",
      "00c058      0.721921  0.278079\n"
     ]
    }
   ],
   "source": [
    "from sklearn.metrics import accuracy_score\n",
    "y_pred=model.predict_proba(xtest)\n",
    "print(\"The predicted Data is :\")\n",
    "print(y_pred)\n",
    "print(\"The actual data is:\")\n",
    "print(np.array(ytest))\n",
    "\n",
    "# DATASET_FOLDER='../input/mayo-clinic-strip-ai'\n",
    "# Image.MAX_IMAGE_PIXELS = 25_000_000_000\n",
    "# ls_imgs = glob.glob(os.path.join(DATASET_FOLDER, \"test\", \"*.tif\"))\n",
    "\n",
    "# preds = []\n",
    "\n",
    "# for p_img in ls_imgs:\n",
    "#     name, _ = os.path.splitext(os.path.basename(p_img))\n",
    "#     preds.append({\n",
    "#         \"patient_id\": name.split(\"_\")[0],\n",
    "#     })\n",
    "    \n",
    "\n",
    "\n",
    "\n",
    "\n",
    "df=pd.DataFrame(list(zip(names,y_pred[:,0],y_pred[:,1])),columns=['patient_id','CE','LAA'])\n",
    "# #df.drop_duplicates(subset=['patient_id'], keep='last')\n",
    "# t = 0\n",
    "# for i in case:\n",
    "#     try:\n",
    "#         size = os.path.getsize(i)\n",
    "#     except:\n",
    "#         size = 2*1e9\n",
    "    \n",
    "#     if(size > 1.2*1e9):\n",
    "#         df['CE'][t] = 0.5\n",
    "#         df['LAA'][t] = 0.5\n",
    "#     else:\n",
    "#         try:\n",
    "#             im1 = []\n",
    "#             directory_ = '../input/mayo-clinic-strip-ai/train/'\n",
    "#             imagenes = os.listdir(directory_)\n",
    "#             k = k+1\n",
    "#             im1 = pyvips.Image.new_from_file('../input/mayo-clinic-strip-ai/train/'+ i, access='sequential')\n",
    "#             im1.write_to_file(str(k)+'.tif', tile=True,compression=\"jpeg\")\n",
    "#             del im1\n",
    "#             gc.collect()\n",
    "#         except:\n",
    "#             df['CE'][t] = 0.5\n",
    "#             df['LAA'][t] = 0.5\n",
    "#         t = t + 1\n",
    "\n",
    "\n",
    "import csv\n",
    "import math\n",
    "#for i in range(len(df)):\n",
    "   # if math.isnan(df['CE'][i]) == True:\n",
    "       # df['CE'][i] = 0.5\n",
    "   # if math.isnan(df['LAA'][i]) == True:\n",
    "       # df['LAA'][i] =0.5\n",
    "df = df.groupby(\"patient_id\").mean()\n",
    "df[[\"CE\", \"LAA\"]].round(6).to_csv(\"submission.csv\")\n",
    "# open the file in the write moded\n",
    "#df.to_csv('./submission.csv',index = None)\n",
    "print(df)"
   ]
  },
  {
   "cell_type": "code",
   "execution_count": 19,
   "id": "77e6dd29",
   "metadata": {
    "execution": {
     "iopub.execute_input": "2022-10-05T01:05:12.604251Z",
     "iopub.status.busy": "2022-10-05T01:05:12.603761Z",
     "iopub.status.idle": "2022-10-05T01:05:12.608660Z",
     "shell.execute_reply": "2022-10-05T01:05:12.607557Z"
    },
    "papermill": {
     "duration": 0.039423,
     "end_time": "2022-10-05T01:05:12.610965",
     "exception": false,
     "start_time": "2022-10-05T01:05:12.571542",
     "status": "completed"
    },
    "tags": []
   },
   "outputs": [],
   "source": [
    "\n",
    "# from sklearn.metrics import log_loss\n",
    "# ytest[0] = 0"
   ]
  },
  {
   "cell_type": "code",
   "execution_count": 20,
   "id": "8c4c20aa",
   "metadata": {
    "execution": {
     "iopub.execute_input": "2022-10-05T01:05:12.646720Z",
     "iopub.status.busy": "2022-10-05T01:05:12.646266Z",
     "iopub.status.idle": "2022-10-05T01:05:12.650226Z",
     "shell.execute_reply": "2022-10-05T01:05:12.649415Z"
    },
    "papermill": {
     "duration": 0.02481,
     "end_time": "2022-10-05T01:05:12.652493",
     "exception": false,
     "start_time": "2022-10-05T01:05:12.627683",
     "status": "completed"
    },
    "tags": []
   },
   "outputs": [],
   "source": [
    "# logloss = log_loss(ytest, model.predict_proba(xtest))\n",
    "# logloss"
   ]
  },
  {
   "cell_type": "code",
   "execution_count": 21,
   "id": "e070427f",
   "metadata": {
    "execution": {
     "iopub.execute_input": "2022-10-05T01:05:12.689276Z",
     "iopub.status.busy": "2022-10-05T01:05:12.687768Z",
     "iopub.status.idle": "2022-10-05T01:05:13.853773Z",
     "shell.execute_reply": "2022-10-05T01:05:13.851866Z"
    },
    "papermill": {
     "duration": 1.187451,
     "end_time": "2022-10-05T01:05:13.856779",
     "exception": false,
     "start_time": "2022-10-05T01:05:12.669328",
     "status": "completed"
    },
    "tags": []
   },
   "outputs": [
    {
     "name": "stdout",
     "output_type": "stream",
     "text": [
      "patient_id,CE,LAA\r\n",
      "006388,0.71933,0.28067\r\n",
      "008e5c,0.72367,0.27633\r\n",
      "00c058,0.721921,0.278079\r\n"
     ]
    }
   ],
   "source": [
    "!head submission.csv"
   ]
  },
  {
   "cell_type": "code",
   "execution_count": 22,
   "id": "fd4bead0",
   "metadata": {
    "execution": {
     "iopub.execute_input": "2022-10-05T01:05:13.893746Z",
     "iopub.status.busy": "2022-10-05T01:05:13.893224Z",
     "iopub.status.idle": "2022-10-05T01:05:13.905847Z",
     "shell.execute_reply": "2022-10-05T01:05:13.904218Z"
    },
    "papermill": {
     "duration": 0.033974,
     "end_time": "2022-10-05T01:05:13.908245",
     "exception": false,
     "start_time": "2022-10-05T01:05:13.874271",
     "status": "completed"
    },
    "tags": []
   },
   "outputs": [
    {
     "data": {
      "text/plain": [
       "patient_id\n",
       "006388    0.280670\n",
       "008e5c    0.276330\n",
       "00c058    0.278079\n",
       "Name: LAA, dtype: float64"
      ]
     },
     "execution_count": 22,
     "metadata": {},
     "output_type": "execute_result"
    }
   ],
   "source": [
    "df['LAA']"
   ]
  },
  {
   "cell_type": "code",
   "execution_count": 23,
   "id": "4e6c236d",
   "metadata": {
    "execution": {
     "iopub.execute_input": "2022-10-05T01:05:13.945398Z",
     "iopub.status.busy": "2022-10-05T01:05:13.944974Z",
     "iopub.status.idle": "2022-10-05T01:05:13.950764Z",
     "shell.execute_reply": "2022-10-05T01:05:13.949776Z"
    },
    "papermill": {
     "duration": 0.027014,
     "end_time": "2022-10-05T01:05:13.952818",
     "exception": false,
     "start_time": "2022-10-05T01:05:13.925804",
     "status": "completed"
    },
    "tags": []
   },
   "outputs": [],
   "source": [
    "# import numpy as np \n",
    "# import pandas as pd \n",
    "# import os\n",
    "# import matplotlib.pyplot as plt\n",
    "# import seaborn as sns\n",
    "# import cv2\n",
    "# import skimage.io as skio\n",
    "# from sklearn.metrics import accuracy_score\n",
    "# import os\n",
    "# import gc\n",
    "# import cv2\n",
    "# import copy\n",
    "# import time\n",
    "# import random\n",
    "# import string\n",
    "# import joblib\n",
    "# import tifffile\n",
    "# import numpy as np \n",
    "# import pandas as pd \n",
    "# import torch\n",
    "# from torch import nn\n",
    "# import seaborn as sns\n",
    "# from torchvision import models\n",
    "# import matplotlib.pyplot as plt\n",
    "# from torch.utils.data import Dataset, DataLoader\n",
    "# from sklearn.model_selection import train_test_split\n",
    "# from tqdm.notebook import tqdm\n",
    "# from torch.optim import lr_scheduler\n",
    "# import warnings\n",
    "# warnings.filterwarnings(\"ignore\")\n",
    "# gc.enable()"
   ]
  },
  {
   "cell_type": "code",
   "execution_count": null,
   "id": "400b4d7a",
   "metadata": {
    "papermill": {
     "duration": 0.017588,
     "end_time": "2022-10-05T01:05:13.988736",
     "exception": false,
     "start_time": "2022-10-05T01:05:13.971148",
     "status": "completed"
    },
    "tags": []
   },
   "outputs": [],
   "source": []
  },
  {
   "cell_type": "code",
   "execution_count": 24,
   "id": "808da11e",
   "metadata": {
    "execution": {
     "iopub.execute_input": "2022-10-05T01:05:14.026843Z",
     "iopub.status.busy": "2022-10-05T01:05:14.025592Z",
     "iopub.status.idle": "2022-10-05T01:05:14.031456Z",
     "shell.execute_reply": "2022-10-05T01:05:14.030156Z"
    },
    "papermill": {
     "duration": 0.027677,
     "end_time": "2022-10-05T01:05:14.034078",
     "exception": false,
     "start_time": "2022-10-05T01:05:14.006401",
     "status": "completed"
    },
    "tags": []
   },
   "outputs": [],
   "source": [
    "# df_train = pd.read_csv('../input/mayo-clinic-strip-ai/train.csv')"
   ]
  },
  {
   "cell_type": "code",
   "execution_count": 25,
   "id": "b5d9be37",
   "metadata": {
    "execution": {
     "iopub.execute_input": "2022-10-05T01:05:14.070588Z",
     "iopub.status.busy": "2022-10-05T01:05:14.070135Z",
     "iopub.status.idle": "2022-10-05T01:05:14.075057Z",
     "shell.execute_reply": "2022-10-05T01:05:14.073734Z"
    },
    "papermill": {
     "duration": 0.026116,
     "end_time": "2022-10-05T01:05:14.077526",
     "exception": false,
     "start_time": "2022-10-05T01:05:14.051410",
     "status": "completed"
    },
    "tags": []
   },
   "outputs": [],
   "source": [
    "\n",
    "# im1 = skio.imread('../input/mayo-clinic-strip-ai/train/006388_0.tif')"
   ]
  },
  {
   "cell_type": "code",
   "execution_count": 26,
   "id": "0c1fa39e",
   "metadata": {
    "execution": {
     "iopub.execute_input": "2022-10-05T01:05:14.115242Z",
     "iopub.status.busy": "2022-10-05T01:05:14.114786Z",
     "iopub.status.idle": "2022-10-05T01:05:14.119907Z",
     "shell.execute_reply": "2022-10-05T01:05:14.118649Z"
    },
    "papermill": {
     "duration": 0.027225,
     "end_time": "2022-10-05T01:05:14.122547",
     "exception": false,
     "start_time": "2022-10-05T01:05:14.095322",
     "status": "completed"
    },
    "tags": []
   },
   "outputs": [],
   "source": [
    "# df_other = df_train.copy()\n",
    "# df_other = pd.read_csv('../input/mayo-clinic-strip-ai/other.csv')\n",
    "# df_other.head()"
   ]
  },
  {
   "cell_type": "code",
   "execution_count": 27,
   "id": "65576666",
   "metadata": {
    "execution": {
     "iopub.execute_input": "2022-10-05T01:05:14.159378Z",
     "iopub.status.busy": "2022-10-05T01:05:14.158920Z",
     "iopub.status.idle": "2022-10-05T01:05:14.164404Z",
     "shell.execute_reply": "2022-10-05T01:05:14.162962Z"
    },
    "papermill": {
     "duration": 0.026836,
     "end_time": "2022-10-05T01:05:14.166690",
     "exception": false,
     "start_time": "2022-10-05T01:05:14.139854",
     "status": "completed"
    },
    "tags": []
   },
   "outputs": [],
   "source": [
    "# sample_submission = df_train.copy()\n",
    "# sample_submission = pd.read_csv('../input/mayo-clinic-strip-ai/sample_submission.csv')\n",
    "# sample_submission.head()"
   ]
  },
  {
   "cell_type": "code",
   "execution_count": 28,
   "id": "0d43bd6c",
   "metadata": {
    "execution": {
     "iopub.execute_input": "2022-10-05T01:05:14.203453Z",
     "iopub.status.busy": "2022-10-05T01:05:14.203001Z",
     "iopub.status.idle": "2022-10-05T01:05:14.208077Z",
     "shell.execute_reply": "2022-10-05T01:05:14.206525Z"
    },
    "papermill": {
     "duration": 0.027056,
     "end_time": "2022-10-05T01:05:14.211032",
     "exception": false,
     "start_time": "2022-10-05T01:05:14.183976",
     "status": "completed"
    },
    "tags": []
   },
   "outputs": [],
   "source": [
    "# director = '../input/mayo-clinic-strip-ai/train'\n",
    "# case = os.listdir(director)\n",
    "# case\n",
    "# file_name = []\n",
    "# image_matrix = []"
   ]
  },
  {
   "cell_type": "code",
   "execution_count": 29,
   "id": "4b4d94c1",
   "metadata": {
    "execution": {
     "iopub.execute_input": "2022-10-05T01:05:14.249022Z",
     "iopub.status.busy": "2022-10-05T01:05:14.248587Z",
     "iopub.status.idle": "2022-10-05T01:05:14.253977Z",
     "shell.execute_reply": "2022-10-05T01:05:14.252645Z"
    },
    "papermill": {
     "duration": 0.027635,
     "end_time": "2022-10-05T01:05:14.256676",
     "exception": false,
     "start_time": "2022-10-05T01:05:14.229041",
     "status": "completed"
    },
    "tags": []
   },
   "outputs": [],
   "source": [
    "# k=0\n",
    "# label = []\n",
    "# for i in case[0:20]:\n",
    "#     im1 = []\n",
    "#     directory_ = '../input/mayo-clinic-strip-ai/train/'\n",
    "#     imagenes = os.listdir(directory_)\n",
    "#     label.append(df_train['label'][k])\n",
    "#     k = k+1\n",
    "#     im1 = skio.imread('../input/mayo-clinic-strip-ai/train/'+ i)\n",
    "#     res = cv2.resize(im1, dsize=(1700, 3040), interpolation=cv2.INTER_CUBIC)\n",
    "#     cv2.imwrite(str(k)+'.jpg', res)"
   ]
  },
  {
   "cell_type": "code",
   "execution_count": 30,
   "id": "70198ff2",
   "metadata": {
    "execution": {
     "iopub.execute_input": "2022-10-05T01:05:14.293153Z",
     "iopub.status.busy": "2022-10-05T01:05:14.292713Z",
     "iopub.status.idle": "2022-10-05T01:05:14.297989Z",
     "shell.execute_reply": "2022-10-05T01:05:14.296604Z"
    },
    "papermill": {
     "duration": 0.026742,
     "end_time": "2022-10-05T01:05:14.300549",
     "exception": false,
     "start_time": "2022-10-05T01:05:14.273807",
     "status": "completed"
    },
    "tags": []
   },
   "outputs": [],
   "source": [
    "# labels = []\n",
    "# for i in range(len(df_train['label'])):\n",
    "#     labels.append(df_train['label'][i])\n",
    "# labels_code = []\n",
    "# for i in labels:\n",
    "#     labels_code.append(labels.index(i))"
   ]
  },
  {
   "cell_type": "markdown",
   "id": "fece5019",
   "metadata": {
    "papermill": {
     "duration": 0.01715,
     "end_time": "2022-10-05T01:05:14.334773",
     "exception": false,
     "start_time": "2022-10-05T01:05:14.317623",
     "status": "completed"
    },
    "tags": []
   },
   "source": [
    "# SVC: Select the whole text and press Ctrl + / to delete the # symbols"
   ]
  },
  {
   "cell_type": "code",
   "execution_count": 31,
   "id": "70182600",
   "metadata": {
    "execution": {
     "iopub.execute_input": "2022-10-05T01:05:14.371533Z",
     "iopub.status.busy": "2022-10-05T01:05:14.371041Z",
     "iopub.status.idle": "2022-10-05T01:05:14.383885Z",
     "shell.execute_reply": "2022-10-05T01:05:14.382470Z"
    },
    "papermill": {
     "duration": 0.034047,
     "end_time": "2022-10-05T01:05:14.386071",
     "exception": false,
     "start_time": "2022-10-05T01:05:14.352024",
     "status": "completed"
    },
    "tags": []
   },
   "outputs": [],
   "source": [
    "# import pandas as pd\n",
    "# import os\n",
    "# from skimage.transform import resize\n",
    "# from skimage.io import imread\n",
    "# import numpy as np\n",
    "# import matplotlib.pyplot as plt\n",
    "# import imageio.v3 as iio\n",
    "# import imghdr\n",
    "# Categories=['CE','LAA']\n",
    "# flat_data_arr=[] \n",
    "# target_arr=[] \n",
    "# datadir='./' \n",
    "\n",
    "# path=datadir\n",
    "# for img in os.listdir(path):\n",
    "#     if imghdr.what(img)=='jpeg':\n",
    "#         print(img)\n",
    "\n",
    "# k=0\n",
    "# label = []\n",
    "# for i in case[0:200]:\n",
    "#     im1 = []\n",
    "#     directory_ = '../input/mayo-clinic-strip-ai/train/'\n",
    "#     imagenes = os.listdir(directory_)\n",
    "#     label.append(df_train['label'][k])\n",
    "#     k = k+1\n",
    "#     im1 = skio.imread('../input/mayo-clinic-strip-ai/train/'+ i)\n",
    "#     res = cv2.resize(im1, dsize=(1700, 3040), interpolation=cv2.INTER_CUBIC)\n",
    "#     cv2.imwrite(str(k)+'.jpg', res)\n",
    "\n",
    "# label = []\n",
    "# for i in case[200:400]:\n",
    "#     im1 = []\n",
    "#     directory_ = '../input/mayo-clinic-strip-ai/train/'\n",
    "#     imagenes = os.listdir(directory_)\n",
    "#     label.append(df_train['label'][k])\n",
    "#     k = k+1\n",
    "#     im1 = skio.imread('../input/mayo-clinic-strip-ai/train/'+ i)\n",
    "#     res = cv2.resize(im1, dsize=(1700, 3040), interpolation=cv2.INTER_CUBIC)\n",
    "#     cv2.imwrite(str(k)+'.jpg', res)\n",
    "\n",
    "\n",
    "# label = []\n",
    "# for i in case[400:600]:\n",
    "#     im1 = []\n",
    "#     directory_ = '../input/mayo-clinic-strip-ai/train/'\n",
    "#     imagenes = os.listdir(directory_)\n",
    "#     label.append(df_train['label'][k])\n",
    "#     k = k+1\n",
    "#     im1 = skio.imread('../input/mayo-clinic-strip-ai/train/'+ i)\n",
    "#     res = cv2.resize(im1, dsize=(1700, 3040), interpolation=cv2.INTER_CUBIC)\n",
    "#     cv2.imwrite(str(k)+'.jpg', res)\n",
    "\n",
    "# label = []\n",
    "# for i in case[600:754]:\n",
    "#     im1 = []\n",
    "#     directory_ = '../input/mayo-clinic-strip-ai/train/'\n",
    "#     imagenes = os.listdir(directory_)\n",
    "#     label.append(df_train['label'][k])\n",
    "#     k = k+1\n",
    "#     im1 = skio.imread('../input/mayo-clinic-strip-ai/train/'+ i)\n",
    "#     res = cv2.resize(im1, dsize=(1700, 3040), interpolation=cv2.INTER_CUBIC)\n",
    "#     cv2.imwrite(str(k)+'.jpg', res)\n",
    "\n",
    "# import pandas as pd\n",
    "# import os\n",
    "# from skimage.transform import resize\n",
    "# from skimage.io import imread\n",
    "# import numpy as np\n",
    "# import matplotlib.pyplot as plt\n",
    "# import imageio.v3 as iio\n",
    "# Categories=['CE','LAA']\n",
    "# flat_data_arr=[] \n",
    "# target_arr=[] \n",
    "# datadir='./' \n",
    "\n",
    "# path=datadir\n",
    "# for img in os.listdir(path):\n",
    "#     print(img)\n",
    "#     if imghdr.what(img)=='jpeg':\n",
    "#         print(img)\n",
    "#         img_array=skio.imread(path + img)\n",
    "#         img_array=iio.imread(img)\n",
    "#         img_resized=resize(img_array,(150,150,3))\n",
    "#         flat_data_arr.append(img_resized.flatten())\n",
    "# flat_data=np.array(flat_data_arr)\n",
    "# target=np.array(labels_code)\n",
    "# df = df_train.copy()\n",
    "# df=pd.DataFrame(flat_data) \n",
    "# df.head()\n",
    "# df['Target']=target\n",
    "        \n",
    "# x=df.iloc[:,:-1] \n",
    "# y=df.iloc[:,-1] \n",
    "\n",
    "# from sklearn import svm\n",
    "# from sklearn.model_selection import GridSearchCV\n",
    "# param_grid={'C':[0.1,1,10,100],'gamma':[0.0001,0.001,0.1,1],'kernel':['rbf','poly']}\n",
    "# svc=svm.SVC(probability=True)\n",
    "# model=GridSearchCV(svc,param_grid)\n",
    "\n",
    "# # from sklearn.model_selection import train_test_split\n",
    "# # x_train,x_test,y_train,y_test=train_test_split(x,y,test_size=0.20,random_state=77,stratify=y)\n",
    "# # print('Splitted Successfully')\n",
    "# # model.fit(x_train,y_train)\n",
    "# # print('The Model is trained well with the given images')\n",
    "\n",
    "# # y_pred=model.predict_proba(x_test)\n",
    "# # print(\"The predicted Data is :\")\n",
    "# # print(y_pred)\n",
    "# # print(\"The actual data is:\")\n",
    "# # print(np.array(y_test))\n",
    "\n",
    "# # print(f\"The model is {accuracy_score(y_pred,y_test)*100}% accurate\")\n",
    "\n",
    "\n",
    "# director = '../input/mayo-clinic-strip-ai/test'\n",
    "# case = os.listdir(director)\n",
    "# case\n",
    "# file_name = []\n",
    "# image_matrix = []\n",
    "\n",
    "# from pathlib import Path\n",
    "# for f in Path('./').glob('*.jpg'):\n",
    "#     try:\n",
    "#         f.unlink()\n",
    "#     except OSError as e:\n",
    "#         print('Error')\n",
    "        \n",
    "# dirs = [\"../input/mayo-clinic-strip-ai/train/\", \"../input/mayo-clinic-strip-ai/test/\"]\n",
    "# df_test = df_train.copy()\n",
    "# df_test = pd.read_csv('../input/mayo-clinic-strip-ai/test.csv')\n",
    "# try:\n",
    "#     os.mkdir(\"'../test/'\")\n",
    "# except:\n",
    "#     pass\n",
    "# for i in tqdm(range(df_test.shape[0])):\n",
    "#     img_id = df_test.iloc[i].image_id\n",
    "#     try:\n",
    "#         sz = os.path.getsize(dirs[1] + img_id + \".tif\")\n",
    "#     except:\n",
    "#         sz = 1000000000\n",
    "#     if(sz > 8e8):\n",
    "#         img = np.zeros((512,512,3), np.uint8)\n",
    "#     else:\n",
    "#         try:\n",
    "#             img = cv2.resize(tifffile.imread(dirs[1] + img_id + \".tif\"), (512, 512))\n",
    "#         except:\n",
    "#             img = np.zeros((512,512,3), np.uint8)\n",
    "#     cv2.imwrite(f\"../test/{img_id}.jpg\", img)\n",
    "#     del img\n",
    "#     gc.collect()\n",
    "        \n",
    "        \n",
    "\n",
    "# label = []\n",
    "# # half = len(case)//2\n",
    "# # for i in case[0:half]:\n",
    "# #     im1 = []\n",
    "# #     directory_ = '../input/mayo-clinic-strip-ai/test/'\n",
    "# #     imagenes = os.listdir(directory_)\n",
    "# #     k = k+1\n",
    "# #     im1 = skio.imread('../input/mayo-clinic-strip-ai/test/'+ i)\n",
    "# #     res = cv2.resize(im1, dsize=(1700, 3040), interpolation=cv2.INTER_CUBIC)\n",
    "# #     cv2.imwrite(str(k)+'.jpg', res)\n",
    "    \n",
    "# # for i in case[half:len(case)]:\n",
    "# #     im1 = []\n",
    "# #     directory_ = '../input/mayo-clinic-strip-ai/test/'\n",
    "# #     imagenes = os.listdir(directory_)\n",
    "# #     k = k+1\n",
    "# #     im1 = skio.imread('../input/mayo-clinic-strip-ai/test/'+ i)\n",
    "# #     res = cv2.resize(im1, dsize=(1700, 3040), interpolation=cv2.INTER_CUBIC)\n",
    "# #     cv2.imwrite(str(k)+'.jpg', res)\n",
    "\n",
    "\n",
    "# df_test = df_train.copy()\n",
    "# df_test = pd.read_csv('../input/mayo-clinic-strip-ai/test.csv')\n",
    "\n",
    "# labels = []\n",
    "# names = []\n",
    "# for i in range(len(df_test['patient_id'])):\n",
    "#     labels.append(df_train['label'][i])\n",
    "#     names.append(df_test['patient_id'][i])\n",
    "# labels_code = []\n",
    "# for i in labels:\n",
    "#     labels_code.append(labels.index(i))\n",
    "\n",
    "# datadir='./' \n",
    "# flat_data_arr=[] \n",
    "# target_arr=[] \n",
    "# path=datadir\n",
    "# for img in os.listdir(path):\n",
    "#     print(img)\n",
    "#     if imghdr.what(img)=='jpeg':\n",
    "#         print(img)\n",
    "#         img_array=skio.imread(path + img)\n",
    "#         img_array=iio.imread(img)\n",
    "#         img_resized=resize(img_array,(150,150,3))\n",
    "#         flat_data_arr.append(img_resized.flatten())\n",
    "# flat_data=np.array(flat_data_arr)\n",
    "# target=np.array(labels_code)\n",
    "# df = df_train.copy()\n",
    "# df=pd.DataFrame(flat_data) \n",
    "# df.head()\n",
    "# df['Target']=target\n",
    "        \n",
    "# xtest=df.iloc[:,:-1] \n",
    "# ytest=df.iloc[:,-1] \n",
    "\n",
    "# model.fit(x,y)\n",
    "# print('The Model is trained well with the given images')\n",
    "\n",
    "# from sklearn.metrics import accuracy_score\n",
    "# y_pred=model.predict(xtest)\n",
    "# from sklearn.metrics import log_loss\n",
    "\n",
    "# logloss = log_loss(ytest, y_pred,eps=1e-15, normalize=True, sample_weight=None, labels=None)\n",
    "# print(log_loss)\n",
    "# # print(y_pred)\n",
    "# # print(\"The actual data is:\")\n",
    "# # print(np.array(ytest))\n",
    "\n",
    "# df=pd.DataFrame(list(zip(names,logloss[:,0],logloss[:,1])),columns=['patient_id','CE','LAA']) \n",
    "# import csv\n",
    "\n",
    "# # open the file in the write moded\n",
    "# df.to_csv('./submission.csv',index = None)\n",
    "\n",
    "# import dill;\n",
    "# # Save the entire session by creating a new pickle file \n",
    "# dill.dump_session('./your_bk_dill.pkl');\n",
    "\n",
    "# # Restore the entire session\n",
    "# # dill.load_session('./your_bk_dill.pkl');"
   ]
  }
 ],
 "metadata": {
  "kernelspec": {
   "display_name": "Python 3",
   "language": "python",
   "name": "python3"
  },
  "language_info": {
   "codemirror_mode": {
    "name": "ipython",
    "version": 3
   },
   "file_extension": ".py",
   "mimetype": "text/x-python",
   "name": "python",
   "nbconvert_exporter": "python",
   "pygments_lexer": "ipython3",
   "version": "3.7.12"
  },
  "papermill": {
   "default_parameters": {},
   "duration": 492.507496,
   "end_time": "2022-10-05T01:05:16.934974",
   "environment_variables": {},
   "exception": null,
   "input_path": "__notebook__.ipynb",
   "output_path": "__notebook__.ipynb",
   "parameters": {},
   "start_time": "2022-10-05T00:57:04.427478",
   "version": "2.3.4"
  }
 },
 "nbformat": 4,
 "nbformat_minor": 5
}
