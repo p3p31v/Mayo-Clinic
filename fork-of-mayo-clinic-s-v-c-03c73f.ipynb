{
 "cells": [
  {
   "cell_type": "markdown",
   "id": "d2b3b719",
   "metadata": {
    "papermill": {
     "duration": 0.010027,
     "end_time": "2022-10-05T16:39:49.037234",
     "exception": false,
     "start_time": "2022-10-05T16:39:49.027207",
     "status": "completed"
    },
    "tags": []
   },
   "source": [
    "# Please, upvote if you find the code useful :D"
   ]
  },
  {
   "cell_type": "code",
   "execution_count": 1,
   "id": "02b57794",
   "metadata": {
    "execution": {
     "iopub.execute_input": "2022-10-05T16:39:49.057272Z",
     "iopub.status.busy": "2022-10-05T16:39:49.056265Z",
     "iopub.status.idle": "2022-10-05T16:42:50.138675Z",
     "shell.execute_reply": "2022-10-05T16:42:50.137075Z"
    },
    "papermill": {
     "duration": 181.09567,
     "end_time": "2022-10-05T16:42:50.141796",
     "exception": false,
     "start_time": "2022-10-05T16:39:49.046126",
     "status": "completed"
    },
    "tags": []
   },
   "outputs": [
    {
     "name": "stdout",
     "output_type": "stream",
     "text": [
      "\r\n",
      "Downloading and Extracting Packages\r\n",
      "######################################################################## | 100% \r\n",
      "######################################################################## | 100% \r\n",
      "######################################################################## | 100% \r\n",
      "######################################################################## | 100% \r\n",
      "######################################################################## | 100% \r\n",
      "######################################################################## | 100% \r\n",
      "######################################################################## | 100% \r\n",
      "######################################################################## | 100% \r\n",
      "######################################################################## | 100% \r\n",
      "######################################################################## | 100% \r\n",
      "######################################################################## | 100% \r\n",
      "######################################################################## | 100% \r\n",
      "######################################################################## | 100% \r\n",
      "######################################################################## | 100% \r\n",
      "######################################################################## | 100% \r\n",
      "######################################################################## | 100% \r\n",
      "######################################################################## | 100% \r\n",
      "######################################################################## | 100% \r\n",
      "######################################################################## | 100% \r\n",
      "######################################################################## | 100% \r\n",
      "######################################################################## | 100% \r\n",
      "######################################################################## | 100% \r\n",
      "Preparing transaction: - \b\b\\ \b\b| \b\b/ \b\b- \b\b\\ \b\b| \b\b/ \b\b- \b\bdone\r\n",
      "Verifying transaction: | \b\b/ \b\b- \b\b\\ \b\b| \b\b/ \b\b- \b\b\\ \b\b| \b\b/ \b\b- \b\b\\ \b\b| \b\b/ \b\b- \b\b\\ \b\b| \b\b/ \b\b- \b\b\\ \b\b| \b\b/ \b\b- \b\b\\ \b\b| \b\b/ \b\b- \b\b\\ \b\b| \b\b/ \b\b- \b\b\\ \b\b| \b\b/ \b\b- \b\b\\ \b\b| \b\b/ \b\b- \b\bdone\r\n",
      "Executing transaction: | \b\b/ \b\b- \b\b\\ \b\b| \b\b/ \b\b- \b\b\\ \b\b| \b\b/ \b\b- \b\b\\ \b\b| \b\b/ \b\b- \b\b\\ \b\b| \b\b/ \b\b- \b\b\\ \b\b| \b\b/ \b\b- \b\b\\ \b\b| \b\b/ \b\b- \b\b\\ \b\b| \b\b/ \b\b- \b\b\\ \b\b| \b\b/ \b\b- \b\b\\ \b\b| \b\b/ \b\b- \b\b\\ \b\b| \b\b/ \b\b- \b\b\\ \b\bdone\r\n",
      "Retrieving notices: ...working... failed\r\n",
      "\r\n",
      "# >>>>>>>>>>>>>>>>>>>>>> ERROR REPORT <<<<<<<<<<<<<<<<<<<<<<\r\n",
      "\r\n",
      "    Traceback (most recent call last):\r\n",
      "      File \"/opt/conda/lib/python3.7/site-packages/urllib3/connection.py\", line 175, in _new_conn\r\n",
      "        (self._dns_host, self.port), self.timeout, **extra_kw\r\n",
      "      File \"/opt/conda/lib/python3.7/site-packages/urllib3/util/connection.py\", line 72, in create_connection\r\n",
      "        for res in socket.getaddrinfo(host, port, family, socket.SOCK_STREAM):\r\n",
      "      File \"/opt/conda/lib/python3.7/socket.py\", line 752, in getaddrinfo\r\n",
      "        for res in _socket.getaddrinfo(host, port, family, type, proto, flags):\r\n",
      "    socket.gaierror: [Errno -3] Temporary failure in name resolution\r\n",
      "    \r\n",
      "    During handling of the above exception, another exception occurred:\r\n",
      "    \r\n",
      "    Traceback (most recent call last):\r\n",
      "      File \"/opt/conda/lib/python3.7/site-packages/urllib3/connectionpool.py\", line 710, in urlopen\r\n",
      "        chunked=chunked,\r\n",
      "      File \"/opt/conda/lib/python3.7/site-packages/urllib3/connectionpool.py\", line 386, in _make_request\r\n",
      "        self._validate_conn(conn)\r\n",
      "      File \"/opt/conda/lib/python3.7/site-packages/urllib3/connectionpool.py\", line 1042, in _validate_conn\r\n",
      "        conn.connect()\r\n",
      "      File \"/opt/conda/lib/python3.7/site-packages/urllib3/connection.py\", line 358, in connect\r\n",
      "        self.sock = conn = self._new_conn()\r\n",
      "      File \"/opt/conda/lib/python3.7/site-packages/urllib3/connection.py\", line 187, in _new_conn\r\n",
      "        self, \"Failed to establish a new connection: %s\" % e\r\n",
      "    urllib3.exceptions.NewConnectionError: <urllib3.connection.HTTPSConnection object at 0x7fbeb7321850>: Failed to establish a new connection: [Errno -3] Temporary failure in name resolution\r\n",
      "    \r\n",
      "    During handling of the above exception, another exception occurred:\r\n",
      "    \r\n",
      "    Traceback (most recent call last):\r\n",
      "      File \"/opt/conda/lib/python3.7/site-packages/requests/adapters.py\", line 499, in send\r\n",
      "        timeout=timeout,\r\n",
      "      File \"/opt/conda/lib/python3.7/site-packages/urllib3/connectionpool.py\", line 828, in urlopen\r\n",
      "        **response_kw\r\n",
      "      File \"/opt/conda/lib/python3.7/site-packages/urllib3/connectionpool.py\", line 828, in urlopen\r\n",
      "        **response_kw\r\n",
      "      File \"/opt/conda/lib/python3.7/site-packages/urllib3/connectionpool.py\", line 828, in urlopen\r\n",
      "        **response_kw\r\n",
      "      File \"/opt/conda/lib/python3.7/site-packages/urllib3/connectionpool.py\", line 788, in urlopen\r\n",
      "        method, url, error=e, _pool=self, _stacktrace=sys.exc_info()[2]\r\n",
      "      File \"/opt/conda/lib/python3.7/site-packages/urllib3/util/retry.py\", line 592, in increment\r\n",
      "        raise MaxRetryError(_pool, url, error or ResponseError(cause))\r\n",
      "    urllib3.exceptions.MaxRetryError: HTTPSConnectionPool(host='conda.anaconda.org', port=443): Max retries exceeded with url: /conda-forge/notices.json (Caused by NewConnectionError('<urllib3.connection.HTTPSConnection object at 0x7fbeb7321850>: Failed to establish a new connection: [Errno -3] Temporary failure in name resolution'))\r\n",
      "    \r\n",
      "    During handling of the above exception, another exception occurred:\r\n",
      "    \r\n",
      "    Traceback (most recent call last):\r\n",
      "      File \"/opt/conda/lib/python3.7/site-packages/conda/exceptions.py\", line 1125, in __call__\r\n",
      "        return func(*args, **kwargs)\r\n",
      "      File \"/opt/conda/lib/python3.7/site-packages/conda/cli/main.py\", line 86, in main_subshell\r\n",
      "        exit_code = do_call(args, p)\r\n",
      "      File \"/opt/conda/lib/python3.7/site-packages/conda/cli/conda_argparse.py\", line 93, in do_call\r\n",
      "        return getattr(module, func_name)(args, parser)\r\n",
      "      File \"/opt/conda/lib/python3.7/site-packages/conda/notices/core.py\", line 78, in wrapper\r\n",
      "        silent=True,\r\n",
      "      File \"/opt/conda/lib/python3.7/site-packages/conda/notices/core.py\", line 39, in display_notices\r\n",
      "        channel_notice_responses = http.get_notice_responses(channel_name_urls, silent=silent)\r\n",
      "      File \"/opt/conda/lib/python3.7/site-packages/conda/notices/http.py\", line 42, in get_notice_responses\r\n",
      "        lambda args: get_channel_notice_response(*args), url_and_names\r\n",
      "      File \"/opt/conda/lib/python3.7/site-packages/conda/notices/http.py\", line 40, in <genexpr>\r\n",
      "        chn_info\r\n",
      "      File \"/opt/conda/lib/python3.7/concurrent/futures/_base.py\", line 598, in result_iterator\r\n",
      "        yield fs.pop().result()\r\n",
      "      File \"/opt/conda/lib/python3.7/concurrent/futures/_base.py\", line 435, in result\r\n",
      "        return self.__get_result()\r\n",
      "      File \"/opt/conda/lib/python3.7/concurrent/futures/_base.py\", line 384, in __get_result\r\n",
      "        raise self._exception\r\n",
      "      File \"/opt/conda/lib/python3.7/concurrent/futures/thread.py\", line 57, in run\r\n",
      "        result = self.fn(*self.args, **self.kwargs)\r\n",
      "      File \"/opt/conda/lib/python3.7/site-packages/conda/notices/http.py\", line 42, in <lambda>\r\n",
      "        lambda args: get_channel_notice_response(*args), url_and_names\r\n",
      "      File \"/opt/conda/lib/python3.7/site-packages/conda/notices/cache.py\", line 37, in wrapper\r\n",
      "        return_value = func(url, name)\r\n",
      "      File \"/opt/conda/lib/python3.7/site-packages/conda/notices/http.py\", line 58, in get_channel_notice_response\r\n",
      "        resp = session.get(url, allow_redirects=False, timeout=5)  # timeout: connect, read\r\n",
      "      File \"/opt/conda/lib/python3.7/site-packages/requests/sessions.py\", line 600, in get\r\n",
      "        return self.request(\"GET\", url, **kwargs)\r\n",
      "      File \"/opt/conda/lib/python3.7/site-packages/requests/sessions.py\", line 587, in request\r\n",
      "        resp = self.send(prep, **send_kwargs)\r\n",
      "      File \"/opt/conda/lib/python3.7/site-packages/requests/sessions.py\", line 701, in send\r\n",
      "        r = adapter.send(request, **kwargs)\r\n",
      "      File \"/opt/conda/lib/python3.7/site-packages/requests/adapters.py\", line 565, in send\r\n",
      "        raise ConnectionError(e, request=request)\r\n",
      "    requests.exceptions.ConnectionError: HTTPSConnectionPool(host='conda.anaconda.org', port=443): Max retries exceeded with url: /conda-forge/notices.json (Caused by NewConnectionError('<urllib3.connection.HTTPSConnection object at 0x7fbeb7321850>: Failed to establish a new connection: [Errno -3] Temporary failure in name resolution'))\r\n",
      "\r\n",
      "`$ /opt/conda/bin/conda install ../input/packages/boost-cpp-1.74.0-h75c5d50_8.tar.bz2 ../input/packages/ca-certificates-2022.6.15.2-ha878542_0.tar.bz2 ../input/packages/certifi-2022.6.15.2-pyhd8ed1ab_0.tar.bz2 ../input/packages/cfitsio-4.1.0-hd9d235c_0.tar.bz2 ../input/packages/freetype-2.12.1-hca18f0e_0.tar.bz2 ../input/packages/glib-2.72.1-h6239696_0.tar.bz2 ../input/packages/glib-tools-2.72.1-h6239696_0.tar.bz2 ../input/packages/gstreamer-orc-0.4.32-h7f98852_1.tar.bz2 ../input/packages/hdf5-1.12.2-nompi_h2386368_100.tar.bz2 ../input/packages/libexif-0.6.21-h7f98852_0.tar.bz2 ../input/packages/libgsf-1.14.50-he99f2b3_0.tar.bz2 ../input/packages/libmatio-1.5.23-h63e3022_1.tar.bz2 ../input/packages/libvips-8.13.1-h90b0b56_1.tar.bz2 ../input/packages/libwebp-1.2.4-h522a892_0.tar.bz2 ../input/packages/libwebp-base-1.2.4-h166bdaf_0.tar.bz2 ../input/packages/nspr-4.32-h9c3ff4c_1.tar.bz2 ../input/packages/nss-3.78-h2350873_0.tar.bz2 ../input/packages/openslide-3.4.1-h978ee9a_4.tar.bz2 ../input/packages/pkgconfig-1.5.5-py37h89c1867_2.tar.bz2 ../input/packages/poppler-22.04.0-h1434ded_1.tar.bz2 ../input/packages/poppler-data-0.4.11-hd8ed1ab_0.tar.bz2 ../input/packages/pyvips-2.2.1-py37had655be_0.tar.bz2`\r\n",
      "\r\n",
      "  environment variables:\r\n",
      "                 CIO_TEST=<not set>\r\n",
      "               CONDA_ROOT=/opt/conda\r\n",
      "           CURL_CA_BUNDLE=<not set>\r\n",
      "          LD_LIBRARY_PATH=/usr/local/cuda/lib64:/usr/local/cuda/lib:/usr/local/lib/x86_64-linux-\r\n",
      "                          gnu:/usr/local/nvidia/lib:/usr/local/nvidia/lib64:\r\n",
      "                     PATH=/opt/conda/bin:/usr/local/sbin:/usr/local/bin:/usr/sbin:/usr/bin:/sbin\r\n",
      "                          :/bin\r\n",
      "               PYTHONPATH=/kaggle/lib/kagglegym:/kaggle/lib:/kaggle/input/mayo-clinic-strip-ai\r\n",
      "           PYTHONUSERBASE=/root/.local\r\n",
      "       REQUESTS_CA_BUNDLE=<not set>\r\n",
      "            SSL_CERT_FILE=<not set>\r\n",
      "           TESSERACT_PATH=/usr/bin/tesseract\r\n",
      "\r\n",
      "     active environment : None\r\n",
      "       user config file : /root/.condarc\r\n",
      " populated config files : /opt/conda/.condarc\r\n",
      "                          /root/.condarc\r\n",
      "          conda version : 4.14.0\r\n",
      "    conda-build version : not installed\r\n",
      "         python version : 3.7.12.final.0\r\n",
      "       virtual packages : __linux=5.15.65=0\r\n",
      "                          __glibc=2.31=0\r\n",
      "                          __unix=0=0\r\n",
      "                          __archspec=1=x86_64\r\n",
      "       base environment : /opt/conda  (writable)\r\n",
      "      conda av data dir : /opt/conda/etc/conda\r\n",
      "  conda av metadata url : None\r\n",
      "           channel URLs : https://conda.anaconda.org/rapidsai/linux-64\r\n",
      "                          https://conda.anaconda.org/rapidsai/noarch\r\n",
      "                          https://conda.anaconda.org/nvidia/linux-64\r\n",
      "                          https://conda.anaconda.org/nvidia/noarch\r\n",
      "                          https://conda.anaconda.org/conda-forge/linux-64\r\n",
      "                          https://conda.anaconda.org/conda-forge/noarch\r\n",
      "                          https://repo.anaconda.com/pkgs/main/linux-64\r\n",
      "                          https://repo.anaconda.com/pkgs/main/noarch\r\n",
      "                          https://repo.anaconda.com/pkgs/r/linux-64\r\n",
      "                          https://repo.anaconda.com/pkgs/r/noarch\r\n",
      "          package cache : /opt/conda/pkgs\r\n",
      "                          /root/.conda/pkgs\r\n",
      "       envs directories : /opt/conda/envs\r\n",
      "                          /root/.conda/envs\r\n",
      "               platform : linux-64\r\n",
      "             user-agent : conda/4.14.0 requests/2.28.1 CPython/3.7.12 Linux/5.15.65+ ubuntu/20.04.4 glibc/2.31\r\n",
      "                UID:GID : 0:0\r\n",
      "             netrc file : None\r\n",
      "           offline mode : False\r\n",
      "\r\n",
      "\r\n",
      "An unexpected error has occurred. Conda has prepared the above report.\r\n",
      "\r\n",
      "If submitted, this report will be used by core maintainers to improve\r\n",
      "future releases of conda.\r\n",
      "Would you like conda to send this report to the core maintainers?\r\n",
      "\r\n",
      "[y/N]: \r\n",
      "Timeout reached. No report sent.\r\n",
      "\r\n"
     ]
    }
   ],
   "source": [
    "!conda install ../input/packages/*.tar.bz2\n",
    "# Note that \"*.tar.bz2\" should be the directory of your binary notebook outputs\n",
    "# e.g. (../input/{notebook_name}/*.tar.bz2)"
   ]
  },
  {
   "cell_type": "code",
   "execution_count": 2,
   "id": "d073d6ed",
   "metadata": {
    "execution": {
     "iopub.execute_input": "2022-10-05T16:42:50.175559Z",
     "iopub.status.busy": "2022-10-05T16:42:50.175129Z",
     "iopub.status.idle": "2022-10-05T16:43:21.698122Z",
     "shell.execute_reply": "2022-10-05T16:43:21.696662Z"
    },
    "papermill": {
     "duration": 31.54328,
     "end_time": "2022-10-05T16:43:21.701008",
     "exception": false,
     "start_time": "2022-10-05T16:42:50.157728",
     "status": "completed"
    },
    "tags": []
   },
   "outputs": [],
   "source": [
    "\n",
    "import dill\n",
    "dill.load_session('../input/joselito/your_bk_dill.pkl')"
   ]
  },
  {
   "cell_type": "code",
   "execution_count": 3,
   "id": "9494967e",
   "metadata": {
    "execution": {
     "iopub.execute_input": "2022-10-05T16:43:21.735389Z",
     "iopub.status.busy": "2022-10-05T16:43:21.734658Z",
     "iopub.status.idle": "2022-10-05T16:43:21.740151Z",
     "shell.execute_reply": "2022-10-05T16:43:21.738850Z"
    },
    "papermill": {
     "duration": 0.025584,
     "end_time": "2022-10-05T16:43:21.742678",
     "exception": false,
     "start_time": "2022-10-05T16:43:21.717094",
     "status": "completed"
    },
    "tags": []
   },
   "outputs": [],
   "source": [
    "#!pip install pyvips"
   ]
  },
  {
   "cell_type": "code",
   "execution_count": 4,
   "id": "89f1e9bb",
   "metadata": {
    "execution": {
     "iopub.execute_input": "2022-10-05T16:43:21.776168Z",
     "iopub.status.busy": "2022-10-05T16:43:21.775768Z",
     "iopub.status.idle": "2022-10-05T16:43:28.291522Z",
     "shell.execute_reply": "2022-10-05T16:43:28.290012Z"
    },
    "papermill": {
     "duration": 6.535954,
     "end_time": "2022-10-05T16:43:28.294503",
     "exception": false,
     "start_time": "2022-10-05T16:43:21.758549",
     "status": "completed"
    },
    "tags": []
   },
   "outputs": [
    {
     "name": "stdout",
     "output_type": "stream",
     "text": [
      "\r\n",
      "PackageNotInstalledError: Package is not installed in prefix.\r\n",
      "  prefix: /opt/conda\r\n",
      "  package name: libvips42\r\n",
      "\r\n",
      "\r\n"
     ]
    }
   ],
   "source": [
    "!conda update libvips42"
   ]
  },
  {
   "cell_type": "code",
   "execution_count": 5,
   "id": "bd125601",
   "metadata": {
    "execution": {
     "iopub.execute_input": "2022-10-05T16:43:28.330600Z",
     "iopub.status.busy": "2022-10-05T16:43:28.329679Z",
     "iopub.status.idle": "2022-10-05T16:43:28.335345Z",
     "shell.execute_reply": "2022-10-05T16:43:28.334401Z"
    },
    "papermill": {
     "duration": 0.027582,
     "end_time": "2022-10-05T16:43:28.337994",
     "exception": false,
     "start_time": "2022-10-05T16:43:28.310412",
     "status": "completed"
    },
    "tags": []
   },
   "outputs": [],
   "source": [
    "#!pip install meson\n",
    "\n",
    "\n"
   ]
  },
  {
   "cell_type": "code",
   "execution_count": 6,
   "id": "ad2201cf",
   "metadata": {
    "execution": {
     "iopub.execute_input": "2022-10-05T16:43:28.371864Z",
     "iopub.status.busy": "2022-10-05T16:43:28.371424Z",
     "iopub.status.idle": "2022-10-05T16:43:28.376024Z",
     "shell.execute_reply": "2022-10-05T16:43:28.374777Z"
    },
    "papermill": {
     "duration": 0.024658,
     "end_time": "2022-10-05T16:43:28.378542",
     "exception": false,
     "start_time": "2022-10-05T16:43:28.353884",
     "status": "completed"
    },
    "tags": []
   },
   "outputs": [],
   "source": [
    "#!pip install --user pyvips"
   ]
  },
  {
   "cell_type": "code",
   "execution_count": 7,
   "id": "b32ddb84",
   "metadata": {
    "execution": {
     "iopub.execute_input": "2022-10-05T16:43:28.413399Z",
     "iopub.status.busy": "2022-10-05T16:43:28.412548Z",
     "iopub.status.idle": "2022-10-05T16:43:28.417544Z",
     "shell.execute_reply": "2022-10-05T16:43:28.416683Z"
    },
    "papermill": {
     "duration": 0.025614,
     "end_time": "2022-10-05T16:43:28.420002",
     "exception": false,
     "start_time": "2022-10-05T16:43:28.394388",
     "status": "completed"
    },
    "tags": []
   },
   "outputs": [],
   "source": [
    "#!conda install --channel conda-forge pyvips -y"
   ]
  },
  {
   "cell_type": "code",
   "execution_count": 8,
   "id": "e9cdc1c4",
   "metadata": {
    "execution": {
     "iopub.execute_input": "2022-10-05T16:43:28.454346Z",
     "iopub.status.busy": "2022-10-05T16:43:28.453922Z",
     "iopub.status.idle": "2022-10-05T16:43:28.676938Z",
     "shell.execute_reply": "2022-10-05T16:43:28.675429Z"
    },
    "papermill": {
     "duration": 0.244034,
     "end_time": "2022-10-05T16:43:28.679870",
     "exception": false,
     "start_time": "2022-10-05T16:43:28.435836",
     "status": "completed"
    },
    "tags": []
   },
   "outputs": [],
   "source": [
    "import pyvips\n",
    "# import _libvips\n",
    "# image = pyvips.Image.new_from_file('../input/mayo-clinic-strip-ai/test/006388_0.tif', access='sequential')\n",
    "# image.write_to_file('x.jpg')"
   ]
  },
  {
   "cell_type": "code",
   "execution_count": 9,
   "id": "4f9ee477",
   "metadata": {
    "execution": {
     "iopub.execute_input": "2022-10-05T16:43:28.715021Z",
     "iopub.status.busy": "2022-10-05T16:43:28.713945Z",
     "iopub.status.idle": "2022-10-05T16:43:28.719555Z",
     "shell.execute_reply": "2022-10-05T16:43:28.718078Z"
    },
    "papermill": {
     "duration": 0.026405,
     "end_time": "2022-10-05T16:43:28.722260",
     "exception": false,
     "start_time": "2022-10-05T16:43:28.695855",
     "status": "completed"
    },
    "tags": []
   },
   "outputs": [],
   "source": [
    "# print(image)"
   ]
  },
  {
   "cell_type": "code",
   "execution_count": 10,
   "id": "91b5bfe1",
   "metadata": {
    "execution": {
     "iopub.execute_input": "2022-10-05T16:43:28.756108Z",
     "iopub.status.busy": "2022-10-05T16:43:28.755674Z",
     "iopub.status.idle": "2022-10-05T16:43:28.770815Z",
     "shell.execute_reply": "2022-10-05T16:43:28.769131Z"
    },
    "papermill": {
     "duration": 0.035463,
     "end_time": "2022-10-05T16:43:28.773890",
     "exception": false,
     "start_time": "2022-10-05T16:43:28.738427",
     "status": "completed"
    },
    "tags": []
   },
   "outputs": [],
   "source": [
    "director = '../input/mayo-clinic-strip-ai/test/'\n",
    "case = os.listdir(director)\n",
    "case\n",
    "file_name = []\n",
    "image_matrix = []\n",
    "\n",
    "#from pathlib import Path\n",
    "#for f in Path('./').glob('*.jpg'):\n",
    "#    try:\n",
    "#        f.unlink()\n",
    " #   except OSError as e:\n",
    " #       print('Error')\n",
    "        \n",
    "#dirs = [\"../input/mayo-clinic-strip-ai/train/\", \"../input/mayo-clinic-strip-ai/test/\"]\n",
    "#df_test = df_train.copy()\n",
    "#df_test = pd.read_csv('../input/mayo-clinic-strip-ai/test.csv')\n",
    "#try:\n",
    "  #  os.mkdir(\"'../test/'\")\n",
    "#except:\n",
    "#    pass\n",
    "#for i in tqdm(range(df_test.shape[0])):\n",
    "#    img_id = df_test.iloc[i].image_id\n",
    "#    try:\n",
    " #       sz = os.path.getsize(dirs[1] + img_id + \".tif\")\n",
    " #   except:\n",
    "#        sz = 1000000000\n",
    "#    if(sz > 8e8):\n",
    "  #      img = np.zeros((512,512,3), np.uint8)\n",
    "  #  else:\n",
    "  #      try:\n",
    " #           img = cv2.resize(tifffile.imread(dirs[1] + img_id + \".tif\"), (512, 512))\n",
    "   #     except:\n",
    " #           img = np.zeros((512,512,3), np.uint8)\n",
    "  #  cv2.imwrite(f\"../test/{img_id}.jpg\", img)\n",
    "  #  del img\n",
    "   # gc.collect()"
   ]
  },
  {
   "cell_type": "code",
   "execution_count": 11,
   "id": "b1b5b3d0",
   "metadata": {
    "execution": {
     "iopub.execute_input": "2022-10-05T16:43:28.809132Z",
     "iopub.status.busy": "2022-10-05T16:43:28.808355Z",
     "iopub.status.idle": "2022-10-05T16:43:28.813668Z",
     "shell.execute_reply": "2022-10-05T16:43:28.812384Z"
    },
    "papermill": {
     "duration": 0.025199,
     "end_time": "2022-10-05T16:43:28.816144",
     "exception": false,
     "start_time": "2022-10-05T16:43:28.790945",
     "status": "completed"
    },
    "tags": []
   },
   "outputs": [],
   "source": [
    "# try:\n",
    "#     size = os.path.getsize(image_path)\n",
    "# except:\n",
    "#     size = 2*1e9\n",
    "    \n",
    "# if(size > 1.2*1e9):\n",
    "#     df['CE'] = 0.5\n",
    "#     df['LAA'] = 0.5\n",
    "# else:\n",
    "#     try:\n",
    "#         #code\n",
    "        \n",
    "#     except:\n",
    "#         df['CE'] = 0.5\n",
    "#         df['LAA'] = 0.5"
   ]
  },
  {
   "cell_type": "code",
   "execution_count": 12,
   "id": "43b92f75",
   "metadata": {
    "execution": {
     "iopub.execute_input": "2022-10-05T16:43:28.861021Z",
     "iopub.status.busy": "2022-10-05T16:43:28.859561Z",
     "iopub.status.idle": "2022-10-05T16:48:16.191633Z",
     "shell.execute_reply": "2022-10-05T16:48:16.189979Z"
    },
    "papermill": {
     "duration": 287.360855,
     "end_time": "2022-10-05T16:48:16.195035",
     "exception": false,
     "start_time": "2022-10-05T16:43:28.834180",
     "status": "completed"
    },
    "tags": []
   },
   "outputs": [
    {
     "name": "stdout",
     "output_type": "stream",
     "text": [
      "755.tif\n",
      "756.tif\n",
      "758.tif\n",
      "757.tif\n"
     ]
    }
   ],
   "source": [
    "import os\n",
    "half = len(case)//3\n",
    "holf = 2*len(case)//3\n",
    "for i in case[0:half]:\n",
    "    im1 = []\n",
    "    directory_ = '../input/mayo-clinic-strip-ai/test/'\n",
    "    imagenes = os.listdir(directory_)\n",
    "    k = k+1\n",
    "    im1 = pyvips.Image.new_from_file('../input/mayo-clinic-strip-ai/test/'+ i, access='sequential')\n",
    "    im1.write_to_file(str(k)+'.tif',tile=True, compression=\"jpeg\")\n",
    "    del im1\n",
    "    gc.collect()\n",
    "    \n",
    "    \n",
    "    \n",
    "    \n",
    "df_test = df_train.copy()\n",
    "\n",
    "labels = []\n",
    "names = []\n",
    "for i in range(len(df_test['patient_id'])):\n",
    "    labels.append(df_train['label'][i])\n",
    "    names.append(df_test['patient_id'][i])\n",
    "labels_code = []\n",
    "for i in labels:\n",
    "    labels_code.append(labels.index(i))\n",
    "\n",
    "datadir='./' \n",
    "flat_data_arr=[] \n",
    "target_arr=[] \n",
    "path=datadir\n",
    "for img in os.listdir(path):\n",
    "    if os.path.isfile(path + img)==True:\n",
    "        if imghdr.what(img)=='tiff':\n",
    "            print(img)\n",
    "            im1 = pyvips.Image.new_from_file(path + img, access='sequential')\n",
    "            im1_ = pyvips.Image.thumbnail(img, 200, height=300, size=\"both\") \n",
    "            im1___ = np.asarray(im1_)\n",
    "#             img_array=skio.imread(path + img)\n",
    "#             img_array=iio.imread(img)\n",
    "            img_resized=resize(im1___,(150,150,3))\n",
    "            flat_data_arr.append(img_resized.flatten())\n",
    "for img in os.listdir('./'): \n",
    "    try:\n",
    "        os.remove(img)\n",
    "    except:\n",
    "        print('hi')\n",
    "\n",
    "    \n",
    "for i in case[half:holf]:\n",
    "    im1 = []\n",
    "    directory_ = '../input/mayo-clinic-strip-ai/test/'\n",
    "    imagenes = os.listdir(directory_)\n",
    "    k = k+1\n",
    "    im1 = pyvips.Image.new_from_file('../input/mayo-clinic-strip-ai/test/'+ i, access='sequential')\n",
    "    im1.write_to_file(str(k)+'.tif',tile=True, compression=\"jpeg\")\n",
    "    del im1\n",
    "    gc.collect()\n",
    "for img in os.listdir(path):\n",
    "    if os.path.isfile(path + img)==True:\n",
    "        if imghdr.what(img)=='tiff':\n",
    "            print(img)\n",
    "            im1 = pyvips.Image.new_from_file(path + img, access='sequential')\n",
    "            im1_ = pyvips.Image.thumbnail(img, 200, height=300, size=\"both\") \n",
    "            im1___ = np.asarray(im1_)\n",
    "#             img_array=skio.imread(path + img)\n",
    "#             img_array=iio.imread(img)\n",
    "            img_resized=resize(im1___,(150,150,3))\n",
    "            flat_data_arr.append(img_resized.flatten())  \n",
    "for img in os.listdir('./'): \n",
    "    try:\n",
    "        os.remove(img)\n",
    "    except:\n",
    "        print('hols')\n",
    "    \n",
    "    \n",
    "for i in case[holf:len(case)]:\n",
    "    im1 = []\n",
    "    directory_ = '../input/mayo-clinic-strip-ai/test/'\n",
    "    imagenes = os.listdir(directory_)\n",
    "    k = k+1\n",
    "    im1 = pyvips.Image.new_from_file('../input/mayo-clinic-strip-ai/test/'+ i, access='sequential')\n",
    "    im1.write_to_file(str(k)+\".tif\",tile=True, compression=\"jpeg\")\n",
    "    del im1\n",
    "    gc.collect()\n",
    "for img in os.listdir(path):\n",
    "    if os.path.isfile(path + img)==True:\n",
    "        if imghdr.what(img)=='tiff':\n",
    "            print(img)\n",
    "            im1 = pyvips.Image.new_from_file(path + img, access='sequential')\n",
    "            im1_ = pyvips.Image.thumbnail(img, 200, height=300, size=\"both\") \n",
    "            im1___ = np.asarray(im1_)\n",
    "#             img_array=skio.imread(path + img)\n",
    "#             img_array=iio.imread(img)\n",
    "            img_resized=resize(im1___,(150,150,3))\n",
    "            flat_data_arr.append(img_resized.flatten())\n",
    "#for img in os.listdir('./'):        \n",
    "   # os.remove(img)"
   ]
  },
  {
   "cell_type": "code",
   "execution_count": 13,
   "id": "26282bba",
   "metadata": {
    "execution": {
     "iopub.execute_input": "2022-10-05T16:48:16.233670Z",
     "iopub.status.busy": "2022-10-05T16:48:16.232750Z",
     "iopub.status.idle": "2022-10-05T16:48:16.238895Z",
     "shell.execute_reply": "2022-10-05T16:48:16.237979Z"
    },
    "papermill": {
     "duration": 0.028274,
     "end_time": "2022-10-05T16:48:16.241371",
     "exception": false,
     "start_time": "2022-10-05T16:48:16.213097",
     "status": "completed"
    },
    "tags": []
   },
   "outputs": [],
   "source": [
    "# half = len(case)//2\n",
    "# for i in case[0:half]:\n",
    "#     im1 = []\n",
    "#     directory_ = '../input/mayo-clinic-strip-ai/test/'\n",
    "#     imagenes = os.listdir(directory_)\n",
    "#     k = k+1\n",
    "#     im1 = skio.imread('../input/mayo-clinic-strip-ai/test/'+ i)\n",
    "#     res = cv2.resize(im1, dsize=(170, 304), interpolation=cv2.INTER_CUBIC)\n",
    "#     cv2.imwrite(str(k)+'.jpg', res)\n",
    "#     del im1\n",
    "#     del res\n",
    "#     gc.collect()\n",
    "    \n",
    "# for i in case[half:len(case)]:\n",
    "#     im1 = []\n",
    "#     directory_ = '../input/mayo-clinic-strip-ai/test/'\n",
    "#     imagenes = os.listdir(directory_)\n",
    "#     k = k+1\n",
    "#     im1 = skio.imread('../input/mayo-clinic-strip-ai/test/'+ i)\n",
    "#     res = cv2.resize(im1, dsize=(170, 304), interpolation=cv2.INTER_CUBIC)\n",
    "#     cv2.imwrite(str(k)+'.jpg', res)\n",
    "#     del im1\n",
    "#     del res\n",
    "#     gc.collect()"
   ]
  },
  {
   "cell_type": "code",
   "execution_count": 14,
   "id": "4f079c40",
   "metadata": {
    "execution": {
     "iopub.execute_input": "2022-10-05T16:48:16.275715Z",
     "iopub.status.busy": "2022-10-05T16:48:16.274899Z",
     "iopub.status.idle": "2022-10-05T16:48:16.280321Z",
     "shell.execute_reply": "2022-10-05T16:48:16.279451Z"
    },
    "papermill": {
     "duration": 0.025223,
     "end_time": "2022-10-05T16:48:16.282629",
     "exception": false,
     "start_time": "2022-10-05T16:48:16.257406",
     "status": "completed"
    },
    "tags": []
   },
   "outputs": [],
   "source": [
    "# for i in case:\n",
    "#     try:\n",
    "#         size = os.path.getsize(i)\n",
    "#     except:\n",
    "#         size = 2*1e9\n",
    "    \n",
    "#     if(size > 1.2*1e9):\n",
    "#         df['CE'] = 0.5\n",
    "#         df['LAA'] = 0.5\n",
    "#     else:\n",
    "#         try:\n",
    "#             im1 = []\n",
    "#             directory_ = '../input/mayo-clinic-strip-ai/test/'\n",
    "#             imagenes = os.listdir(directory_)\n",
    "#             k = k+1\n",
    "#             im1 = pyvips.Image.new_from_file('../input/mayo-clinic-strip-ai/test/'+ i, access='sequential')\n",
    "#             im1.write_to_file(str(k)+'.jpg')\n",
    "#             del im1\n",
    "#             gc.collect()\n",
    "#         except:\n",
    "#             df['CE'] = 0.5\n",
    "#             df['LAA'] = 0.5"
   ]
  },
  {
   "cell_type": "code",
   "execution_count": 15,
   "id": "c8a96c27",
   "metadata": {
    "execution": {
     "iopub.execute_input": "2022-10-05T16:48:16.319007Z",
     "iopub.status.busy": "2022-10-05T16:48:16.318149Z",
     "iopub.status.idle": "2022-10-05T16:48:16.330592Z",
     "shell.execute_reply": "2022-10-05T16:48:16.329556Z"
    },
    "papermill": {
     "duration": 0.033433,
     "end_time": "2022-10-05T16:48:16.333245",
     "exception": false,
     "start_time": "2022-10-05T16:48:16.299812",
     "status": "completed"
    },
    "tags": []
   },
   "outputs": [],
   "source": [
    "# df_test = df_train.copy()\n",
    "\n",
    "# labels = []\n",
    "# names = []\n",
    "# for i in range(len(df_test['patient_id'])):\n",
    "#     labels.append(df_train['label'][i])\n",
    "#     names.append(df_test['patient_id'][i])\n",
    "# labels_code = []\n",
    "# for i in labels:\n",
    "#     labels_code.append(labels.index(i))\n",
    "\n",
    "# datadir='./' \n",
    "# flat_data_arr=[] \n",
    "# target_arr=[] \n",
    "# path=datadir\n",
    "# for img in os.listdir(path):\n",
    "#     if os.path.isfile(path + img)==True:\n",
    "#         if imghdr.what(img)=='tif':\n",
    "#             print(img)\n",
    "#             im1 = pyvips.Image.new_from_file(path + img, access='sequential')\n",
    "#             im1_ = pyvips.Image.thumbnail(img, 200, height=300, size=\"both\") \n",
    "#             im1___ = np.asarray(im1_)\n",
    "# #             img_array=skio.imread(path + img)\n",
    "# #             img_array=iio.imread(img)\n",
    "#             img_resized=resize(im1___,(150,150,3))\n",
    "#             flat_data_arr.append(img_resized.flatten())\n",
    "flat_data=np.array(flat_data_arr)\n",
    "target=np.array(labels_code)\n",
    "df = df_train.copy()\n",
    "df=pd.DataFrame(flat_data) \n",
    "df.head()\n",
    "#df['Target']=target\n",
    "#df.drop_duplicates(subset=['patient_id'], keep='last')\n",
    "xtest=df.iloc[:,:] \n",
    "ytest=df.iloc[:,-1]"
   ]
  },
  {
   "cell_type": "code",
   "execution_count": null,
   "id": "c3c93a3a",
   "metadata": {
    "papermill": {
     "duration": 0.015984,
     "end_time": "2022-10-05T16:48:16.365294",
     "exception": false,
     "start_time": "2022-10-05T16:48:16.349310",
     "status": "completed"
    },
    "tags": []
   },
   "outputs": [],
   "source": []
  },
  {
   "cell_type": "code",
   "execution_count": 16,
   "id": "2175c1b5",
   "metadata": {
    "execution": {
     "iopub.execute_input": "2022-10-05T16:48:16.399294Z",
     "iopub.status.busy": "2022-10-05T16:48:16.398885Z",
     "iopub.status.idle": "2022-10-05T16:48:16.404841Z",
     "shell.execute_reply": "2022-10-05T16:48:16.403375Z"
    },
    "papermill": {
     "duration": 0.02631,
     "end_time": "2022-10-05T16:48:16.407799",
     "exception": false,
     "start_time": "2022-10-05T16:48:16.381489",
     "status": "completed"
    },
    "tags": []
   },
   "outputs": [],
   "source": [
    "import gc\n",
    "from PIL import Image\n",
    "from tqdm.auto import tqdm\n",
    "import os, glob"
   ]
  },
  {
   "cell_type": "code",
   "execution_count": 17,
   "id": "f2e28d69",
   "metadata": {
    "execution": {
     "iopub.execute_input": "2022-10-05T16:48:16.442258Z",
     "iopub.status.busy": "2022-10-05T16:48:16.441850Z",
     "iopub.status.idle": "2022-10-05T16:48:16.480052Z",
     "shell.execute_reply": "2022-10-05T16:48:16.478651Z"
    },
    "papermill": {
     "duration": 0.058702,
     "end_time": "2022-10-05T16:48:16.482901",
     "exception": false,
     "start_time": "2022-10-05T16:48:16.424199",
     "status": "completed"
    },
    "tags": []
   },
   "outputs": [
    {
     "data": {
      "text/html": [
       "<div>\n",
       "<style scoped>\n",
       "    .dataframe tbody tr th:only-of-type {\n",
       "        vertical-align: middle;\n",
       "    }\n",
       "\n",
       "    .dataframe tbody tr th {\n",
       "        vertical-align: top;\n",
       "    }\n",
       "\n",
       "    .dataframe thead th {\n",
       "        text-align: right;\n",
       "    }\n",
       "</style>\n",
       "<table border=\"1\" class=\"dataframe\">\n",
       "  <thead>\n",
       "    <tr style=\"text-align: right;\">\n",
       "      <th></th>\n",
       "      <th>0</th>\n",
       "      <th>1</th>\n",
       "      <th>2</th>\n",
       "      <th>3</th>\n",
       "      <th>4</th>\n",
       "      <th>5</th>\n",
       "      <th>6</th>\n",
       "      <th>7</th>\n",
       "      <th>8</th>\n",
       "      <th>9</th>\n",
       "      <th>...</th>\n",
       "      <th>67490</th>\n",
       "      <th>67491</th>\n",
       "      <th>67492</th>\n",
       "      <th>67493</th>\n",
       "      <th>67494</th>\n",
       "      <th>67495</th>\n",
       "      <th>67496</th>\n",
       "      <th>67497</th>\n",
       "      <th>67498</th>\n",
       "      <th>67499</th>\n",
       "    </tr>\n",
       "  </thead>\n",
       "  <tbody>\n",
       "    <tr>\n",
       "      <th>0</th>\n",
       "      <td>1.000000</td>\n",
       "      <td>1.000000</td>\n",
       "      <td>1.000000</td>\n",
       "      <td>1.000000</td>\n",
       "      <td>1.000000</td>\n",
       "      <td>1.000000</td>\n",
       "      <td>0.999998</td>\n",
       "      <td>0.999999</td>\n",
       "      <td>0.999999</td>\n",
       "      <td>0.999998</td>\n",
       "      <td>...</td>\n",
       "      <td>1.00000</td>\n",
       "      <td>1.000000</td>\n",
       "      <td>1.000000</td>\n",
       "      <td>1.00000</td>\n",
       "      <td>1.000000</td>\n",
       "      <td>1.000000</td>\n",
       "      <td>1.00000</td>\n",
       "      <td>0.996314</td>\n",
       "      <td>0.996314</td>\n",
       "      <td>0.996314</td>\n",
       "    </tr>\n",
       "    <tr>\n",
       "      <th>1</th>\n",
       "      <td>1.000000</td>\n",
       "      <td>0.945098</td>\n",
       "      <td>1.000000</td>\n",
       "      <td>1.000000</td>\n",
       "      <td>0.945098</td>\n",
       "      <td>1.000000</td>\n",
       "      <td>1.000000</td>\n",
       "      <td>0.945098</td>\n",
       "      <td>1.000000</td>\n",
       "      <td>1.000000</td>\n",
       "      <td>...</td>\n",
       "      <td>1.00000</td>\n",
       "      <td>1.000000</td>\n",
       "      <td>0.945098</td>\n",
       "      <td>1.00000</td>\n",
       "      <td>1.000000</td>\n",
       "      <td>0.945098</td>\n",
       "      <td>1.00000</td>\n",
       "      <td>1.000000</td>\n",
       "      <td>0.945098</td>\n",
       "      <td>1.000000</td>\n",
       "    </tr>\n",
       "    <tr>\n",
       "      <th>2</th>\n",
       "      <td>0.960784</td>\n",
       "      <td>0.964172</td>\n",
       "      <td>0.956329</td>\n",
       "      <td>0.960784</td>\n",
       "      <td>0.961503</td>\n",
       "      <td>0.955261</td>\n",
       "      <td>0.963453</td>\n",
       "      <td>0.964172</td>\n",
       "      <td>0.956863</td>\n",
       "      <td>0.961264</td>\n",
       "      <td>...</td>\n",
       "      <td>0.94902</td>\n",
       "      <td>0.956209</td>\n",
       "      <td>0.956209</td>\n",
       "      <td>0.94902</td>\n",
       "      <td>0.954902</td>\n",
       "      <td>0.954902</td>\n",
       "      <td>0.94902</td>\n",
       "      <td>0.953595</td>\n",
       "      <td>0.953595</td>\n",
       "      <td>0.949020</td>\n",
       "    </tr>\n",
       "    <tr>\n",
       "      <th>3</th>\n",
       "      <td>1.000000</td>\n",
       "      <td>1.000000</td>\n",
       "      <td>1.000000</td>\n",
       "      <td>1.000000</td>\n",
       "      <td>1.000000</td>\n",
       "      <td>1.000000</td>\n",
       "      <td>1.000000</td>\n",
       "      <td>1.000000</td>\n",
       "      <td>1.000000</td>\n",
       "      <td>1.000000</td>\n",
       "      <td>...</td>\n",
       "      <td>1.00000</td>\n",
       "      <td>1.000000</td>\n",
       "      <td>1.000000</td>\n",
       "      <td>1.00000</td>\n",
       "      <td>1.000000</td>\n",
       "      <td>1.000000</td>\n",
       "      <td>1.00000</td>\n",
       "      <td>1.000000</td>\n",
       "      <td>1.000000</td>\n",
       "      <td>1.000000</td>\n",
       "    </tr>\n",
       "  </tbody>\n",
       "</table>\n",
       "<p>4 rows × 67500 columns</p>\n",
       "</div>"
      ],
      "text/plain": [
       "      0         1         2         3         4         5         6      \\\n",
       "0  1.000000  1.000000  1.000000  1.000000  1.000000  1.000000  0.999998   \n",
       "1  1.000000  0.945098  1.000000  1.000000  0.945098  1.000000  1.000000   \n",
       "2  0.960784  0.964172  0.956329  0.960784  0.961503  0.955261  0.963453   \n",
       "3  1.000000  1.000000  1.000000  1.000000  1.000000  1.000000  1.000000   \n",
       "\n",
       "      7         8         9      ...    67490     67491     67492    67493  \\\n",
       "0  0.999999  0.999999  0.999998  ...  1.00000  1.000000  1.000000  1.00000   \n",
       "1  0.945098  1.000000  1.000000  ...  1.00000  1.000000  0.945098  1.00000   \n",
       "2  0.964172  0.956863  0.961264  ...  0.94902  0.956209  0.956209  0.94902   \n",
       "3  1.000000  1.000000  1.000000  ...  1.00000  1.000000  1.000000  1.00000   \n",
       "\n",
       "      67494     67495    67496     67497     67498     67499  \n",
       "0  1.000000  1.000000  1.00000  0.996314  0.996314  0.996314  \n",
       "1  1.000000  0.945098  1.00000  1.000000  0.945098  1.000000  \n",
       "2  0.954902  0.954902  0.94902  0.953595  0.953595  0.949020  \n",
       "3  1.000000  1.000000  1.00000  1.000000  1.000000  1.000000  \n",
       "\n",
       "[4 rows x 67500 columns]"
      ]
     },
     "execution_count": 17,
     "metadata": {},
     "output_type": "execute_result"
    }
   ],
   "source": [
    "xtest"
   ]
  },
  {
   "cell_type": "code",
   "execution_count": 18,
   "id": "c4815bc8",
   "metadata": {
    "execution": {
     "iopub.execute_input": "2022-10-05T16:48:16.519399Z",
     "iopub.status.busy": "2022-10-05T16:48:16.518963Z",
     "iopub.status.idle": "2022-10-05T16:48:17.917223Z",
     "shell.execute_reply": "2022-10-05T16:48:17.915364Z"
    },
    "papermill": {
     "duration": 1.422221,
     "end_time": "2022-10-05T16:48:17.922229",
     "exception": false,
     "start_time": "2022-10-05T16:48:16.500008",
     "status": "completed"
    },
    "tags": []
   },
   "outputs": [
    {
     "name": "stdout",
     "output_type": "stream",
     "text": [
      "The predicted Data is :\n",
      "[[0.72201886 0.27798114]\n",
      " [0.73681579 0.26318421]\n",
      " [0.71965653 0.28034347]\n",
      " [0.73834096 0.26165904]]\n",
      "The actual data is:\n",
      "[0.99631373 1.         0.94901961 1.        ]\n",
      "                  CE       LAA\n",
      "patient_id                    \n",
      "006388      0.722019  0.277981\n",
      "008e5c      0.736816  0.263184\n",
      "00c058      0.719657  0.280343\n",
      "01adc5      0.738341  0.261659\n"
     ]
    }
   ],
   "source": [
    "from sklearn.metrics import accuracy_score\n",
    "y_pred=model.predict_proba(xtest)\n",
    "print(\"The predicted Data is :\")\n",
    "print(y_pred)\n",
    "print(\"The actual data is:\")\n",
    "print(np.array(ytest))\n",
    "\n",
    "# DATASET_FOLDER='../input/mayo-clinic-strip-ai'\n",
    "# Image.MAX_IMAGE_PIXELS = 25_000_000_000\n",
    "# ls_imgs = glob.glob(os.path.join(DATASET_FOLDER, \"test\", \"*.tif\"))\n",
    "\n",
    "# preds = []\n",
    "\n",
    "# for p_img in ls_imgs:\n",
    "#     name, _ = os.path.splitext(os.path.basename(p_img))\n",
    "#     preds.append({\n",
    "#         \"patient_id\": name.split(\"_\")[0],\n",
    "#     })\n",
    "    \n",
    "\n",
    "\n",
    "\n",
    "\n",
    "df=pd.DataFrame(list(zip(names,y_pred[:,0],y_pred[:,1])),columns=['patient_id','CE','LAA'])\n",
    "# #df.drop_duplicates(subset=['patient_id'], keep='last')\n",
    "# t = 0\n",
    "# for i in case:\n",
    "#     try:\n",
    "#         size = os.path.getsize(i)\n",
    "#     except:\n",
    "#         size = 2*1e9\n",
    "    \n",
    "#     if(size > 1.2*1e9):\n",
    "#         df['CE'][t] = 0.5\n",
    "#         df['LAA'][t] = 0.5\n",
    "#     else:\n",
    "#         try:\n",
    "#             im1 = []\n",
    "#             directory_ = '../input/mayo-clinic-strip-ai/train/'\n",
    "#             imagenes = os.listdir(directory_)\n",
    "#             k = k+1\n",
    "#             im1 = pyvips.Image.new_from_file('../input/mayo-clinic-strip-ai/train/'+ i, access='sequential')\n",
    "#             im1.write_to_file(str(k)+'.tif', tile=True,compression=\"jpeg\")\n",
    "#             del im1\n",
    "#             gc.collect()\n",
    "#         except:\n",
    "#             df['CE'][t] = 0.5\n",
    "#             df['LAA'][t] = 0.5\n",
    "#         t = t + 1\n",
    "\n",
    "\n",
    "import csv\n",
    "import math\n",
    "#for i in range(len(df)):\n",
    "   # if math.isnan(df['CE'][i]) == True:\n",
    "       # df['CE'][i] = 0.5\n",
    "   # if math.isnan(df['LAA'][i]) == True:\n",
    "       # df['LAA'][i] =0.5\n",
    "df = df.groupby(\"patient_id\").mean()\n",
    "df[[\"CE\", \"LAA\"]].round(6).to_csv(\"submission.csv\")\n",
    "# open the file in the write moded\n",
    "#df.to_csv('./submission.csv',index = None)\n",
    "print(df)"
   ]
  },
  {
   "cell_type": "code",
   "execution_count": 19,
   "id": "5069b46d",
   "metadata": {
    "execution": {
     "iopub.execute_input": "2022-10-05T16:48:18.000351Z",
     "iopub.status.busy": "2022-10-05T16:48:17.999894Z",
     "iopub.status.idle": "2022-10-05T16:48:18.005377Z",
     "shell.execute_reply": "2022-10-05T16:48:18.004145Z"
    },
    "papermill": {
     "duration": 0.038567,
     "end_time": "2022-10-05T16:48:18.007967",
     "exception": false,
     "start_time": "2022-10-05T16:48:17.969400",
     "status": "completed"
    },
    "tags": []
   },
   "outputs": [],
   "source": [
    "\n",
    "# from sklearn.metrics import log_loss\n",
    "# ytest[0] = 0"
   ]
  },
  {
   "cell_type": "code",
   "execution_count": 20,
   "id": "ea3cdaa3",
   "metadata": {
    "execution": {
     "iopub.execute_input": "2022-10-05T16:48:18.043608Z",
     "iopub.status.busy": "2022-10-05T16:48:18.043168Z",
     "iopub.status.idle": "2022-10-05T16:48:18.047890Z",
     "shell.execute_reply": "2022-10-05T16:48:18.046910Z"
    },
    "papermill": {
     "duration": 0.025165,
     "end_time": "2022-10-05T16:48:18.050144",
     "exception": false,
     "start_time": "2022-10-05T16:48:18.024979",
     "status": "completed"
    },
    "tags": []
   },
   "outputs": [],
   "source": [
    "# logloss = log_loss(ytest, model.predict_proba(xtest))\n",
    "# logloss"
   ]
  },
  {
   "cell_type": "code",
   "execution_count": 21,
   "id": "5ef1d29a",
   "metadata": {
    "execution": {
     "iopub.execute_input": "2022-10-05T16:48:18.086324Z",
     "iopub.status.busy": "2022-10-05T16:48:18.085405Z",
     "iopub.status.idle": "2022-10-05T16:48:19.227498Z",
     "shell.execute_reply": "2022-10-05T16:48:19.226148Z"
    },
    "papermill": {
     "duration": 1.163357,
     "end_time": "2022-10-05T16:48:19.230239",
     "exception": false,
     "start_time": "2022-10-05T16:48:18.066882",
     "status": "completed"
    },
    "tags": []
   },
   "outputs": [
    {
     "name": "stdout",
     "output_type": "stream",
     "text": [
      "patient_id,CE,LAA\r\n",
      "006388,0.722019,0.277981\r\n",
      "008e5c,0.736816,0.263184\r\n",
      "00c058,0.719657,0.280343\r\n",
      "01adc5,0.738341,0.261659\r\n"
     ]
    }
   ],
   "source": [
    "!head submission.csv"
   ]
  },
  {
   "cell_type": "code",
   "execution_count": 22,
   "id": "7174c324",
   "metadata": {
    "execution": {
     "iopub.execute_input": "2022-10-05T16:48:19.266727Z",
     "iopub.status.busy": "2022-10-05T16:48:19.265959Z",
     "iopub.status.idle": "2022-10-05T16:48:19.275218Z",
     "shell.execute_reply": "2022-10-05T16:48:19.274359Z"
    },
    "papermill": {
     "duration": 0.030359,
     "end_time": "2022-10-05T16:48:19.277562",
     "exception": false,
     "start_time": "2022-10-05T16:48:19.247203",
     "status": "completed"
    },
    "tags": []
   },
   "outputs": [
    {
     "data": {
      "text/plain": [
       "patient_id\n",
       "006388    0.277981\n",
       "008e5c    0.263184\n",
       "00c058    0.280343\n",
       "01adc5    0.261659\n",
       "Name: LAA, dtype: float64"
      ]
     },
     "execution_count": 22,
     "metadata": {},
     "output_type": "execute_result"
    }
   ],
   "source": [
    "df['LAA']"
   ]
  },
  {
   "cell_type": "code",
   "execution_count": 23,
   "id": "ba72e7bf",
   "metadata": {
    "execution": {
     "iopub.execute_input": "2022-10-05T16:48:19.314001Z",
     "iopub.status.busy": "2022-10-05T16:48:19.313241Z",
     "iopub.status.idle": "2022-10-05T16:48:19.318253Z",
     "shell.execute_reply": "2022-10-05T16:48:19.317333Z"
    },
    "papermill": {
     "duration": 0.026437,
     "end_time": "2022-10-05T16:48:19.320752",
     "exception": false,
     "start_time": "2022-10-05T16:48:19.294315",
     "status": "completed"
    },
    "tags": []
   },
   "outputs": [],
   "source": [
    "# import numpy as np \n",
    "# import pandas as pd \n",
    "# import os\n",
    "# import matplotlib.pyplot as plt\n",
    "# import seaborn as sns\n",
    "# import cv2\n",
    "# import skimage.io as skio\n",
    "# from sklearn.metrics import accuracy_score\n",
    "# import os\n",
    "# import gc\n",
    "# import cv2\n",
    "# import copy\n",
    "# import time\n",
    "# import random\n",
    "# import string\n",
    "# import joblib\n",
    "# import tifffile\n",
    "# import numpy as np \n",
    "# import pandas as pd \n",
    "# import torch\n",
    "# from torch import nn\n",
    "# import seaborn as sns\n",
    "# from torchvision import models\n",
    "# import matplotlib.pyplot as plt\n",
    "# from torch.utils.data import Dataset, DataLoader\n",
    "# from sklearn.model_selection import train_test_split\n",
    "# from tqdm.notebook import tqdm\n",
    "# from torch.optim import lr_scheduler\n",
    "# import warnings\n",
    "# warnings.filterwarnings(\"ignore\")\n",
    "# gc.enable()"
   ]
  },
  {
   "cell_type": "code",
   "execution_count": null,
   "id": "e8eb3d39",
   "metadata": {
    "papermill": {
     "duration": 0.016679,
     "end_time": "2022-10-05T16:48:19.354839",
     "exception": false,
     "start_time": "2022-10-05T16:48:19.338160",
     "status": "completed"
    },
    "tags": []
   },
   "outputs": [],
   "source": []
  },
  {
   "cell_type": "code",
   "execution_count": 24,
   "id": "bba40c96",
   "metadata": {
    "execution": {
     "iopub.execute_input": "2022-10-05T16:48:19.391309Z",
     "iopub.status.busy": "2022-10-05T16:48:19.390606Z",
     "iopub.status.idle": "2022-10-05T16:48:19.394849Z",
     "shell.execute_reply": "2022-10-05T16:48:19.393799Z"
    },
    "papermill": {
     "duration": 0.025835,
     "end_time": "2022-10-05T16:48:19.397613",
     "exception": false,
     "start_time": "2022-10-05T16:48:19.371778",
     "status": "completed"
    },
    "tags": []
   },
   "outputs": [],
   "source": [
    "# df_train = pd.read_csv('../input/mayo-clinic-strip-ai/train.csv')"
   ]
  },
  {
   "cell_type": "code",
   "execution_count": 25,
   "id": "ce54f582",
   "metadata": {
    "execution": {
     "iopub.execute_input": "2022-10-05T16:48:19.434835Z",
     "iopub.status.busy": "2022-10-05T16:48:19.433584Z",
     "iopub.status.idle": "2022-10-05T16:48:19.439007Z",
     "shell.execute_reply": "2022-10-05T16:48:19.438178Z"
    },
    "papermill": {
     "duration": 0.026183,
     "end_time": "2022-10-05T16:48:19.441419",
     "exception": false,
     "start_time": "2022-10-05T16:48:19.415236",
     "status": "completed"
    },
    "tags": []
   },
   "outputs": [],
   "source": [
    "\n",
    "# im1 = skio.imread('../input/mayo-clinic-strip-ai/train/006388_0.tif')"
   ]
  },
  {
   "cell_type": "code",
   "execution_count": 26,
   "id": "61dbca73",
   "metadata": {
    "execution": {
     "iopub.execute_input": "2022-10-05T16:48:19.477382Z",
     "iopub.status.busy": "2022-10-05T16:48:19.476233Z",
     "iopub.status.idle": "2022-10-05T16:48:19.481162Z",
     "shell.execute_reply": "2022-10-05T16:48:19.480337Z"
    },
    "papermill": {
     "duration": 0.025233,
     "end_time": "2022-10-05T16:48:19.483410",
     "exception": false,
     "start_time": "2022-10-05T16:48:19.458177",
     "status": "completed"
    },
    "tags": []
   },
   "outputs": [],
   "source": [
    "# df_other = df_train.copy()\n",
    "# df_other = pd.read_csv('../input/mayo-clinic-strip-ai/other.csv')\n",
    "# df_other.head()"
   ]
  },
  {
   "cell_type": "code",
   "execution_count": 27,
   "id": "96f80c12",
   "metadata": {
    "execution": {
     "iopub.execute_input": "2022-10-05T16:48:19.518941Z",
     "iopub.status.busy": "2022-10-05T16:48:19.518510Z",
     "iopub.status.idle": "2022-10-05T16:48:19.523457Z",
     "shell.execute_reply": "2022-10-05T16:48:19.521940Z"
    },
    "papermill": {
     "duration": 0.02602,
     "end_time": "2022-10-05T16:48:19.526108",
     "exception": false,
     "start_time": "2022-10-05T16:48:19.500088",
     "status": "completed"
    },
    "tags": []
   },
   "outputs": [],
   "source": [
    "# sample_submission = df_train.copy()\n",
    "# sample_submission = pd.read_csv('../input/mayo-clinic-strip-ai/sample_submission.csv')\n",
    "# sample_submission.head()"
   ]
  },
  {
   "cell_type": "code",
   "execution_count": 28,
   "id": "136424df",
   "metadata": {
    "execution": {
     "iopub.execute_input": "2022-10-05T16:48:19.561876Z",
     "iopub.status.busy": "2022-10-05T16:48:19.561441Z",
     "iopub.status.idle": "2022-10-05T16:48:19.566850Z",
     "shell.execute_reply": "2022-10-05T16:48:19.565704Z"
    },
    "papermill": {
     "duration": 0.025975,
     "end_time": "2022-10-05T16:48:19.569063",
     "exception": false,
     "start_time": "2022-10-05T16:48:19.543088",
     "status": "completed"
    },
    "tags": []
   },
   "outputs": [],
   "source": [
    "# director = '../input/mayo-clinic-strip-ai/train'\n",
    "# case = os.listdir(director)\n",
    "# case\n",
    "# file_name = []\n",
    "# image_matrix = []"
   ]
  },
  {
   "cell_type": "code",
   "execution_count": 29,
   "id": "4c907a3b",
   "metadata": {
    "execution": {
     "iopub.execute_input": "2022-10-05T16:48:19.604625Z",
     "iopub.status.busy": "2022-10-05T16:48:19.604149Z",
     "iopub.status.idle": "2022-10-05T16:48:19.609593Z",
     "shell.execute_reply": "2022-10-05T16:48:19.608360Z"
    },
    "papermill": {
     "duration": 0.026159,
     "end_time": "2022-10-05T16:48:19.612107",
     "exception": false,
     "start_time": "2022-10-05T16:48:19.585948",
     "status": "completed"
    },
    "tags": []
   },
   "outputs": [],
   "source": [
    "# k=0\n",
    "# label = []\n",
    "# for i in case[0:20]:\n",
    "#     im1 = []\n",
    "#     directory_ = '../input/mayo-clinic-strip-ai/train/'\n",
    "#     imagenes = os.listdir(directory_)\n",
    "#     label.append(df_train['label'][k])\n",
    "#     k = k+1\n",
    "#     im1 = skio.imread('../input/mayo-clinic-strip-ai/train/'+ i)\n",
    "#     res = cv2.resize(im1, dsize=(1700, 3040), interpolation=cv2.INTER_CUBIC)\n",
    "#     cv2.imwrite(str(k)+'.jpg', res)"
   ]
  },
  {
   "cell_type": "code",
   "execution_count": 30,
   "id": "66c147bd",
   "metadata": {
    "execution": {
     "iopub.execute_input": "2022-10-05T16:48:19.649161Z",
     "iopub.status.busy": "2022-10-05T16:48:19.648713Z",
     "iopub.status.idle": "2022-10-05T16:48:19.653810Z",
     "shell.execute_reply": "2022-10-05T16:48:19.652644Z"
    },
    "papermill": {
     "duration": 0.026515,
     "end_time": "2022-10-05T16:48:19.656294",
     "exception": false,
     "start_time": "2022-10-05T16:48:19.629779",
     "status": "completed"
    },
    "tags": []
   },
   "outputs": [],
   "source": [
    "# labels = []\n",
    "# for i in range(len(df_train['label'])):\n",
    "#     labels.append(df_train['label'][i])\n",
    "# labels_code = []\n",
    "# for i in labels:\n",
    "#     labels_code.append(labels.index(i))"
   ]
  },
  {
   "cell_type": "markdown",
   "id": "a95c69fe",
   "metadata": {
    "papermill": {
     "duration": 0.01634,
     "end_time": "2022-10-05T16:48:19.689551",
     "exception": false,
     "start_time": "2022-10-05T16:48:19.673211",
     "status": "completed"
    },
    "tags": []
   },
   "source": [
    "# SVC: Select the whole text and press Ctrl + / to delete the # symbols"
   ]
  },
  {
   "cell_type": "code",
   "execution_count": 31,
   "id": "5d0b3a40",
   "metadata": {
    "execution": {
     "iopub.execute_input": "2022-10-05T16:48:19.726081Z",
     "iopub.status.busy": "2022-10-05T16:48:19.725600Z",
     "iopub.status.idle": "2022-10-05T16:48:19.738645Z",
     "shell.execute_reply": "2022-10-05T16:48:19.737318Z"
    },
    "papermill": {
     "duration": 0.034809,
     "end_time": "2022-10-05T16:48:19.741306",
     "exception": false,
     "start_time": "2022-10-05T16:48:19.706497",
     "status": "completed"
    },
    "tags": []
   },
   "outputs": [],
   "source": [
    "# import pandas as pd\n",
    "# import os\n",
    "# from skimage.transform import resize\n",
    "# from skimage.io import imread\n",
    "# import numpy as np\n",
    "# import matplotlib.pyplot as plt\n",
    "# import imageio.v3 as iio\n",
    "# import imghdr\n",
    "# Categories=['CE','LAA']\n",
    "# flat_data_arr=[] \n",
    "# target_arr=[] \n",
    "# datadir='./' \n",
    "\n",
    "# path=datadir\n",
    "# for img in os.listdir(path):\n",
    "#     if imghdr.what(img)=='jpeg':\n",
    "#         print(img)\n",
    "\n",
    "# k=0\n",
    "# label = []\n",
    "# for i in case[0:200]:\n",
    "#     im1 = []\n",
    "#     directory_ = '../input/mayo-clinic-strip-ai/train/'\n",
    "#     imagenes = os.listdir(directory_)\n",
    "#     label.append(df_train['label'][k])\n",
    "#     k = k+1\n",
    "#     im1 = skio.imread('../input/mayo-clinic-strip-ai/train/'+ i)\n",
    "#     res = cv2.resize(im1, dsize=(1700, 3040), interpolation=cv2.INTER_CUBIC)\n",
    "#     cv2.imwrite(str(k)+'.jpg', res)\n",
    "\n",
    "# label = []\n",
    "# for i in case[200:400]:\n",
    "#     im1 = []\n",
    "#     directory_ = '../input/mayo-clinic-strip-ai/train/'\n",
    "#     imagenes = os.listdir(directory_)\n",
    "#     label.append(df_train['label'][k])\n",
    "#     k = k+1\n",
    "#     im1 = skio.imread('../input/mayo-clinic-strip-ai/train/'+ i)\n",
    "#     res = cv2.resize(im1, dsize=(1700, 3040), interpolation=cv2.INTER_CUBIC)\n",
    "#     cv2.imwrite(str(k)+'.jpg', res)\n",
    "\n",
    "\n",
    "# label = []\n",
    "# for i in case[400:600]:\n",
    "#     im1 = []\n",
    "#     directory_ = '../input/mayo-clinic-strip-ai/train/'\n",
    "#     imagenes = os.listdir(directory_)\n",
    "#     label.append(df_train['label'][k])\n",
    "#     k = k+1\n",
    "#     im1 = skio.imread('../input/mayo-clinic-strip-ai/train/'+ i)\n",
    "#     res = cv2.resize(im1, dsize=(1700, 3040), interpolation=cv2.INTER_CUBIC)\n",
    "#     cv2.imwrite(str(k)+'.jpg', res)\n",
    "\n",
    "# label = []\n",
    "# for i in case[600:754]:\n",
    "#     im1 = []\n",
    "#     directory_ = '../input/mayo-clinic-strip-ai/train/'\n",
    "#     imagenes = os.listdir(directory_)\n",
    "#     label.append(df_train['label'][k])\n",
    "#     k = k+1\n",
    "#     im1 = skio.imread('../input/mayo-clinic-strip-ai/train/'+ i)\n",
    "#     res = cv2.resize(im1, dsize=(1700, 3040), interpolation=cv2.INTER_CUBIC)\n",
    "#     cv2.imwrite(str(k)+'.jpg', res)\n",
    "\n",
    "# import pandas as pd\n",
    "# import os\n",
    "# from skimage.transform import resize\n",
    "# from skimage.io import imread\n",
    "# import numpy as np\n",
    "# import matplotlib.pyplot as plt\n",
    "# import imageio.v3 as iio\n",
    "# Categories=['CE','LAA']\n",
    "# flat_data_arr=[] \n",
    "# target_arr=[] \n",
    "# datadir='./' \n",
    "\n",
    "# path=datadir\n",
    "# for img in os.listdir(path):\n",
    "#     print(img)\n",
    "#     if imghdr.what(img)=='jpeg':\n",
    "#         print(img)\n",
    "#         img_array=skio.imread(path + img)\n",
    "#         img_array=iio.imread(img)\n",
    "#         img_resized=resize(img_array,(150,150,3))\n",
    "#         flat_data_arr.append(img_resized.flatten())\n",
    "# flat_data=np.array(flat_data_arr)\n",
    "# target=np.array(labels_code)\n",
    "# df = df_train.copy()\n",
    "# df=pd.DataFrame(flat_data) \n",
    "# df.head()\n",
    "# df['Target']=target\n",
    "        \n",
    "# x=df.iloc[:,:-1] \n",
    "# y=df.iloc[:,-1] \n",
    "\n",
    "# from sklearn import svm\n",
    "# from sklearn.model_selection import GridSearchCV\n",
    "# param_grid={'C':[0.1,1,10,100],'gamma':[0.0001,0.001,0.1,1],'kernel':['rbf','poly']}\n",
    "# svc=svm.SVC(probability=True)\n",
    "# model=GridSearchCV(svc,param_grid)\n",
    "\n",
    "# # from sklearn.model_selection import train_test_split\n",
    "# # x_train,x_test,y_train,y_test=train_test_split(x,y,test_size=0.20,random_state=77,stratify=y)\n",
    "# # print('Splitted Successfully')\n",
    "# # model.fit(x_train,y_train)\n",
    "# # print('The Model is trained well with the given images')\n",
    "\n",
    "# # y_pred=model.predict_proba(x_test)\n",
    "# # print(\"The predicted Data is :\")\n",
    "# # print(y_pred)\n",
    "# # print(\"The actual data is:\")\n",
    "# # print(np.array(y_test))\n",
    "\n",
    "# # print(f\"The model is {accuracy_score(y_pred,y_test)*100}% accurate\")\n",
    "\n",
    "\n",
    "# director = '../input/mayo-clinic-strip-ai/test'\n",
    "# case = os.listdir(director)\n",
    "# case\n",
    "# file_name = []\n",
    "# image_matrix = []\n",
    "\n",
    "# from pathlib import Path\n",
    "# for f in Path('./').glob('*.jpg'):\n",
    "#     try:\n",
    "#         f.unlink()\n",
    "#     except OSError as e:\n",
    "#         print('Error')\n",
    "        \n",
    "# dirs = [\"../input/mayo-clinic-strip-ai/train/\", \"../input/mayo-clinic-strip-ai/test/\"]\n",
    "# df_test = df_train.copy()\n",
    "# df_test = pd.read_csv('../input/mayo-clinic-strip-ai/test.csv')\n",
    "# try:\n",
    "#     os.mkdir(\"'../test/'\")\n",
    "# except:\n",
    "#     pass\n",
    "# for i in tqdm(range(df_test.shape[0])):\n",
    "#     img_id = df_test.iloc[i].image_id\n",
    "#     try:\n",
    "#         sz = os.path.getsize(dirs[1] + img_id + \".tif\")\n",
    "#     except:\n",
    "#         sz = 1000000000\n",
    "#     if(sz > 8e8):\n",
    "#         img = np.zeros((512,512,3), np.uint8)\n",
    "#     else:\n",
    "#         try:\n",
    "#             img = cv2.resize(tifffile.imread(dirs[1] + img_id + \".tif\"), (512, 512))\n",
    "#         except:\n",
    "#             img = np.zeros((512,512,3), np.uint8)\n",
    "#     cv2.imwrite(f\"../test/{img_id}.jpg\", img)\n",
    "#     del img\n",
    "#     gc.collect()\n",
    "        \n",
    "        \n",
    "\n",
    "# label = []\n",
    "# # half = len(case)//2\n",
    "# # for i in case[0:half]:\n",
    "# #     im1 = []\n",
    "# #     directory_ = '../input/mayo-clinic-strip-ai/test/'\n",
    "# #     imagenes = os.listdir(directory_)\n",
    "# #     k = k+1\n",
    "# #     im1 = skio.imread('../input/mayo-clinic-strip-ai/test/'+ i)\n",
    "# #     res = cv2.resize(im1, dsize=(1700, 3040), interpolation=cv2.INTER_CUBIC)\n",
    "# #     cv2.imwrite(str(k)+'.jpg', res)\n",
    "    \n",
    "# # for i in case[half:len(case)]:\n",
    "# #     im1 = []\n",
    "# #     directory_ = '../input/mayo-clinic-strip-ai/test/'\n",
    "# #     imagenes = os.listdir(directory_)\n",
    "# #     k = k+1\n",
    "# #     im1 = skio.imread('../input/mayo-clinic-strip-ai/test/'+ i)\n",
    "# #     res = cv2.resize(im1, dsize=(1700, 3040), interpolation=cv2.INTER_CUBIC)\n",
    "# #     cv2.imwrite(str(k)+'.jpg', res)\n",
    "\n",
    "\n",
    "# df_test = df_train.copy()\n",
    "# df_test = pd.read_csv('../input/mayo-clinic-strip-ai/test.csv')\n",
    "\n",
    "# labels = []\n",
    "# names = []\n",
    "# for i in range(len(df_test['patient_id'])):\n",
    "#     labels.append(df_train['label'][i])\n",
    "#     names.append(df_test['patient_id'][i])\n",
    "# labels_code = []\n",
    "# for i in labels:\n",
    "#     labels_code.append(labels.index(i))\n",
    "\n",
    "# datadir='./' \n",
    "# flat_data_arr=[] \n",
    "# target_arr=[] \n",
    "# path=datadir\n",
    "# for img in os.listdir(path):\n",
    "#     print(img)\n",
    "#     if imghdr.what(img)=='jpeg':\n",
    "#         print(img)\n",
    "#         img_array=skio.imread(path + img)\n",
    "#         img_array=iio.imread(img)\n",
    "#         img_resized=resize(img_array,(150,150,3))\n",
    "#         flat_data_arr.append(img_resized.flatten())\n",
    "# flat_data=np.array(flat_data_arr)\n",
    "# target=np.array(labels_code)\n",
    "# df = df_train.copy()\n",
    "# df=pd.DataFrame(flat_data) \n",
    "# df.head()\n",
    "# df['Target']=target\n",
    "        \n",
    "# xtest=df.iloc[:,:-1] \n",
    "# ytest=df.iloc[:,-1] \n",
    "\n",
    "# model.fit(x,y)\n",
    "# print('The Model is trained well with the given images')\n",
    "\n",
    "# from sklearn.metrics import accuracy_score\n",
    "# y_pred=model.predict(xtest)\n",
    "# from sklearn.metrics import log_loss\n",
    "\n",
    "# logloss = log_loss(ytest, y_pred,eps=1e-15, normalize=True, sample_weight=None, labels=None)\n",
    "# print(log_loss)\n",
    "# # print(y_pred)\n",
    "# # print(\"The actual data is:\")\n",
    "# # print(np.array(ytest))\n",
    "\n",
    "# df=pd.DataFrame(list(zip(names,logloss[:,0],logloss[:,1])),columns=['patient_id','CE','LAA']) \n",
    "# import csv\n",
    "\n",
    "# # open the file in the write moded\n",
    "# df.to_csv('./submission.csv',index = None)\n",
    "\n",
    "# import dill;\n",
    "# # Save the entire session by creating a new pickle file \n",
    "# dill.dump_session('./your_bk_dill.pkl');\n",
    "\n",
    "# # Restore the entire session\n",
    "# # dill.load_session('./your_bk_dill.pkl');"
   ]
  }
 ],
 "metadata": {
  "kernelspec": {
   "display_name": "Python 3",
   "language": "python",
   "name": "python3"
  },
  "language_info": {
   "codemirror_mode": {
    "name": "ipython",
    "version": 3
   },
   "file_extension": ".py",
   "mimetype": "text/x-python",
   "name": "python",
   "nbconvert_exporter": "python",
   "pygments_lexer": "ipython3",
   "version": "3.7.12"
  },
  "papermill": {
   "default_parameters": {},
   "duration": 522.991251,
   "end_time": "2022-10-05T16:48:21.387236",
   "environment_variables": {},
   "exception": null,
   "input_path": "__notebook__.ipynb",
   "output_path": "__notebook__.ipynb",
   "parameters": {},
   "start_time": "2022-10-05T16:39:38.395985",
   "version": "2.3.4"
  }
 },
 "nbformat": 4,
 "nbformat_minor": 5
}
