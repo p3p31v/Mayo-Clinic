{
 "cells": [
  {
   "cell_type": "code",
   "execution_count": 1,
   "id": "39469dcb",
   "metadata": {
    "_cell_guid": "b1076dfc-b9ad-4769-8c92-a6c4dae69d19",
    "_uuid": "8f2839f25d086af736a60e9eeb907d3b93b6e0e5",
    "execution": {
     "iopub.execute_input": "2022-07-25T17:56:36.069372Z",
     "iopub.status.busy": "2022-07-25T17:56:36.068888Z",
     "iopub.status.idle": "2022-07-25T17:56:37.605004Z",
     "shell.execute_reply": "2022-07-25T17:56:37.603705Z"
    },
    "papermill": {
     "duration": 1.545274,
     "end_time": "2022-07-25T17:56:37.608220",
     "exception": false,
     "start_time": "2022-07-25T17:56:36.062946",
     "status": "completed"
    },
    "tags": []
   },
   "outputs": [],
   "source": [
    "# This Python 3 environment comes with many helpful analytics libraries installed\n",
    "# It is defined by the kaggle/python Docker image: https://github.com/kaggle/docker-python\n",
    "# For example, here's several helpful packages to load\n",
    "\n",
    "import numpy as np # linear algebra\n",
    "import pandas as pd # data processing, CSV file I/O (e.g. pd.read_csv)\n",
    "\n",
    "# Input data files are available in the read-only \"../input/\" directory\n",
    "# For example, running this (by clicking run or pressing Shift+Enter) will list all files under the input directory\n",
    "\n",
    "import os\n",
    "import cv2\n",
    "import matplotlib.pyplot as plt\n",
    "import seaborn as sns\n",
    "\n",
    "# You can write up to 20GB to the current directory (/kaggle/working/) that gets preserved as output when you create a version using \"Save & Run All\" \n",
    "# You can also write temporary files to /kaggle/temp/, but they won't be saved outside of the current session"
   ]
  },
  {
   "cell_type": "code",
   "execution_count": 2,
   "id": "9298191e",
   "metadata": {
    "execution": {
     "iopub.execute_input": "2022-07-25T17:56:37.616872Z",
     "iopub.status.busy": "2022-07-25T17:56:37.616429Z",
     "iopub.status.idle": "2022-07-25T17:56:37.632128Z",
     "shell.execute_reply": "2022-07-25T17:56:37.631050Z"
    },
    "papermill": {
     "duration": 0.022873,
     "end_time": "2022-07-25T17:56:37.634585",
     "exception": false,
     "start_time": "2022-07-25T17:56:37.611712",
     "status": "completed"
    },
    "tags": []
   },
   "outputs": [],
   "source": [
    "df_train = pd.read_csv('../input/mayo-clinic-strip-ai/train.csv')"
   ]
  },
  {
   "cell_type": "code",
   "execution_count": 3,
   "id": "5b41a269",
   "metadata": {
    "execution": {
     "iopub.execute_input": "2022-07-25T17:56:37.642595Z",
     "iopub.status.busy": "2022-07-25T17:56:37.641946Z",
     "iopub.status.idle": "2022-07-25T17:56:37.663385Z",
     "shell.execute_reply": "2022-07-25T17:56:37.662342Z"
    },
    "papermill": {
     "duration": 0.029812,
     "end_time": "2022-07-25T17:56:37.667473",
     "exception": false,
     "start_time": "2022-07-25T17:56:37.637661",
     "status": "completed"
    },
    "tags": []
   },
   "outputs": [
    {
     "data": {
      "text/html": [
       "<div>\n",
       "<style scoped>\n",
       "    .dataframe tbody tr th:only-of-type {\n",
       "        vertical-align: middle;\n",
       "    }\n",
       "\n",
       "    .dataframe tbody tr th {\n",
       "        vertical-align: top;\n",
       "    }\n",
       "\n",
       "    .dataframe thead th {\n",
       "        text-align: right;\n",
       "    }\n",
       "</style>\n",
       "<table border=\"1\" class=\"dataframe\">\n",
       "  <thead>\n",
       "    <tr style=\"text-align: right;\">\n",
       "      <th></th>\n",
       "      <th>image_id</th>\n",
       "      <th>center_id</th>\n",
       "      <th>patient_id</th>\n",
       "      <th>image_num</th>\n",
       "      <th>label</th>\n",
       "    </tr>\n",
       "  </thead>\n",
       "  <tbody>\n",
       "    <tr>\n",
       "      <th>0</th>\n",
       "      <td>006388_0</td>\n",
       "      <td>11</td>\n",
       "      <td>006388</td>\n",
       "      <td>0</td>\n",
       "      <td>CE</td>\n",
       "    </tr>\n",
       "    <tr>\n",
       "      <th>1</th>\n",
       "      <td>008e5c_0</td>\n",
       "      <td>11</td>\n",
       "      <td>008e5c</td>\n",
       "      <td>0</td>\n",
       "      <td>CE</td>\n",
       "    </tr>\n",
       "    <tr>\n",
       "      <th>2</th>\n",
       "      <td>00c058_0</td>\n",
       "      <td>11</td>\n",
       "      <td>00c058</td>\n",
       "      <td>0</td>\n",
       "      <td>LAA</td>\n",
       "    </tr>\n",
       "    <tr>\n",
       "      <th>3</th>\n",
       "      <td>01adc5_0</td>\n",
       "      <td>11</td>\n",
       "      <td>01adc5</td>\n",
       "      <td>0</td>\n",
       "      <td>LAA</td>\n",
       "    </tr>\n",
       "    <tr>\n",
       "      <th>4</th>\n",
       "      <td>026c97_0</td>\n",
       "      <td>4</td>\n",
       "      <td>026c97</td>\n",
       "      <td>0</td>\n",
       "      <td>CE</td>\n",
       "    </tr>\n",
       "  </tbody>\n",
       "</table>\n",
       "</div>"
      ],
      "text/plain": [
       "   image_id  center_id patient_id  image_num label\n",
       "0  006388_0         11     006388          0    CE\n",
       "1  008e5c_0         11     008e5c          0    CE\n",
       "2  00c058_0         11     00c058          0   LAA\n",
       "3  01adc5_0         11     01adc5          0   LAA\n",
       "4  026c97_0          4     026c97          0    CE"
      ]
     },
     "execution_count": 3,
     "metadata": {},
     "output_type": "execute_result"
    }
   ],
   "source": [
    "df_train.head()"
   ]
  },
  {
   "cell_type": "code",
   "execution_count": 4,
   "id": "1914b492",
   "metadata": {
    "execution": {
     "iopub.execute_input": "2022-07-25T17:56:37.676147Z",
     "iopub.status.busy": "2022-07-25T17:56:37.675434Z",
     "iopub.status.idle": "2022-07-25T17:57:23.476573Z",
     "shell.execute_reply": "2022-07-25T17:57:23.475317Z"
    },
    "papermill": {
     "duration": 45.809046,
     "end_time": "2022-07-25T17:57:23.479823",
     "exception": false,
     "start_time": "2022-07-25T17:56:37.670777",
     "status": "completed"
    },
    "tags": []
   },
   "outputs": [],
   "source": [
    "import skimage.io as skio\n",
    "im1 = skio.imread('../input/mayo-clinic-strip-ai/train/006388_0.tif')\n",
    "\n"
   ]
  },
  {
   "cell_type": "code",
   "execution_count": 5,
   "id": "4d2179fa",
   "metadata": {
    "execution": {
     "iopub.execute_input": "2022-07-25T17:57:23.489562Z",
     "iopub.status.busy": "2022-07-25T17:57:23.489127Z",
     "iopub.status.idle": "2022-07-25T17:57:23.497305Z",
     "shell.execute_reply": "2022-07-25T17:57:23.496144Z"
    },
    "papermill": {
     "duration": 0.015813,
     "end_time": "2022-07-25T17:57:23.499960",
     "exception": false,
     "start_time": "2022-07-25T17:57:23.484147",
     "status": "completed"
    },
    "tags": []
   },
   "outputs": [
    {
     "data": {
      "text/plain": [
       "6202570737"
      ]
     },
     "execution_count": 5,
     "metadata": {},
     "output_type": "execute_result"
    }
   ],
   "source": [
    "im1.size"
   ]
  },
  {
   "cell_type": "code",
   "execution_count": 6,
   "id": "659f7a18",
   "metadata": {
    "execution": {
     "iopub.execute_input": "2022-07-25T17:57:23.509029Z",
     "iopub.status.busy": "2022-07-25T17:57:23.508577Z",
     "iopub.status.idle": "2022-07-25T17:57:23.741710Z",
     "shell.execute_reply": "2022-07-25T17:57:23.740208Z"
    },
    "papermill": {
     "duration": 0.240838,
     "end_time": "2022-07-25T17:57:23.744476",
     "exception": false,
     "start_time": "2022-07-25T17:57:23.503638",
     "status": "completed"
    },
    "tags": []
   },
   "outputs": [
    {
     "name": "stderr",
     "output_type": "stream",
     "text": [
      "/opt/conda/lib/python3.7/site-packages/seaborn/_decorators.py:43: FutureWarning: Pass the following variable as a keyword arg: x. From version 0.12, the only valid positional argument will be `data`, and passing other arguments without an explicit keyword will result in an error or misinterpretation.\n",
      "  FutureWarning\n"
     ]
    },
    {
     "data": {
      "image/png": "[encoded data removed]",
      "text/plain": [
       "<Figure size 1440x432 with 1 Axes>"
      ]
     },
     "metadata": {
      "needs_background": "light"
     },
     "output_type": "display_data"
    }
   ],
   "source": [
    "plt.figure(figsize=(20, 6))\n",
    "\n",
    "sns.countplot(df_train['label'])\n",
    "plt.title(\"Distribution of Ratings\", fontsize=20)\n",
    "\n",
    "plt.show()"
   ]
  },
  {
   "cell_type": "code",
   "execution_count": null,
   "id": "08cfc82c",
   "metadata": {
    "papermill": {
     "duration": 0.003574,
     "end_time": "2022-07-25T17:57:23.751860",
     "exception": false,
     "start_time": "2022-07-25T17:57:23.748286",
     "status": "completed"
    },
    "tags": []
   },
   "outputs": [],
   "source": []
  }
 ],
 "metadata": {
  "kernelspec": {
   "display_name": "Python 3",
   "language": "python",
   "name": "python3"
  },
  "language_info": {
   "codemirror_mode": {
    "name": "ipython",
    "version": 3
   },
   "file_extension": ".py",
   "mimetype": "text/x-python",
   "name": "python",
   "nbconvert_exporter": "python",
   "pygments_lexer": "ipython3",
   "version": "3.7.12"
  },
  "papermill": {
   "default_parameters": {},
   "duration": 60.197748,
   "end_time": "2022-07-25T17:57:24.980651",
   "environment_variables": {},
   "exception": null,
   "input_path": "__notebook__.ipynb",
   "output_path": "__notebook__.ipynb",
   "parameters": {},
   "start_time": "2022-07-25T17:56:24.782903",
   "version": "2.3.4"
  }
 },
 "nbformat": 4,
 "nbformat_minor": 5
}
