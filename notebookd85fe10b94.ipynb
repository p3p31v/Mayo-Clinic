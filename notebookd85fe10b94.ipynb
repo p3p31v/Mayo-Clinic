{
 "cells": [
  {
   "cell_type": "code",
   "execution_count": 1,
   "id": "bd734148",
   "metadata": {
    "_cell_guid": "b1076dfc-b9ad-4769-8c92-a6c4dae69d19",
    "_uuid": "8f2839f25d086af736a60e9eeb907d3b93b6e0e5",
    "execution": {
     "iopub.execute_input": "2022-07-25T17:39:32.208024Z",
     "iopub.status.busy": "2022-07-25T17:39:32.207026Z",
     "iopub.status.idle": "2022-07-25T17:39:32.430224Z",
     "shell.execute_reply": "2022-07-25T17:39:32.428875Z"
    },
    "papermill": {
     "duration": 0.23194,
     "end_time": "2022-07-25T17:39:32.433196",
     "exception": false,
     "start_time": "2022-07-25T17:39:32.201256",
     "status": "completed"
    },
    "tags": []
   },
   "outputs": [],
   "source": [
    "# This Python 3 environment comes with many helpful analytics libraries installed\n",
    "# It is defined by the kaggle/python Docker image: https://github.com/kaggle/docker-python\n",
    "# For example, here's several helpful packages to load\n",
    "\n",
    "import numpy as np # linear algebra\n",
    "import pandas as pd # data processing, CSV file I/O (e.g. pd.read_csv)\n",
    "\n",
    "# Input data files are available in the read-only \"../input/\" directory\n",
    "# For example, running this (by clicking run or pressing Shift+Enter) will list all files under the input directory\n",
    "\n",
    "import os\n",
    "import cv2\n",
    "\n",
    "\n",
    "# You can write up to 20GB to the current directory (/kaggle/working/) that gets preserved as output when you create a version using \"Save & Run All\" \n",
    "# You can also write temporary files to /kaggle/temp/, but they won't be saved outside of the current session"
   ]
  },
  {
   "cell_type": "code",
   "execution_count": 2,
   "id": "9a84aed3",
   "metadata": {
    "execution": {
     "iopub.execute_input": "2022-07-25T17:39:32.442167Z",
     "iopub.status.busy": "2022-07-25T17:39:32.440571Z",
     "iopub.status.idle": "2022-07-25T17:39:32.458096Z",
     "shell.execute_reply": "2022-07-25T17:39:32.456863Z"
    },
    "papermill": {
     "duration": 0.024402,
     "end_time": "2022-07-25T17:39:32.460933",
     "exception": false,
     "start_time": "2022-07-25T17:39:32.436531",
     "status": "completed"
    },
    "tags": []
   },
   "outputs": [],
   "source": [
    "df_train = pd.read_csv('../input/mayo-clinic-strip-ai/train.csv')"
   ]
  },
  {
   "cell_type": "code",
   "execution_count": 3,
   "id": "677e3456",
   "metadata": {
    "execution": {
     "iopub.execute_input": "2022-07-25T17:39:32.468572Z",
     "iopub.status.busy": "2022-07-25T17:39:32.468054Z",
     "iopub.status.idle": "2022-07-25T17:39:32.491448Z",
     "shell.execute_reply": "2022-07-25T17:39:32.490365Z"
    },
    "papermill": {
     "duration": 0.030677,
     "end_time": "2022-07-25T17:39:32.494626",
     "exception": false,
     "start_time": "2022-07-25T17:39:32.463949",
     "status": "completed"
    },
    "tags": []
   },
   "outputs": [
    {
     "data": {
      "text/html": [
       "<div>\n",
       "<style scoped>\n",
       "    .dataframe tbody tr th:only-of-type {\n",
       "        vertical-align: middle;\n",
       "    }\n",
       "\n",
       "    .dataframe tbody tr th {\n",
       "        vertical-align: top;\n",
       "    }\n",
       "\n",
       "    .dataframe thead th {\n",
       "        text-align: right;\n",
       "    }\n",
       "</style>\n",
       "<table border=\"1\" class=\"dataframe\">\n",
       "  <thead>\n",
       "    <tr style=\"text-align: right;\">\n",
       "      <th></th>\n",
       "      <th>image_id</th>\n",
       "      <th>center_id</th>\n",
       "      <th>patient_id</th>\n",
       "      <th>image_num</th>\n",
       "      <th>label</th>\n",
       "    </tr>\n",
       "  </thead>\n",
       "  <tbody>\n",
       "    <tr>\n",
       "      <th>0</th>\n",
       "      <td>006388_0</td>\n",
       "      <td>11</td>\n",
       "      <td>006388</td>\n",
       "      <td>0</td>\n",
       "      <td>CE</td>\n",
       "    </tr>\n",
       "    <tr>\n",
       "      <th>1</th>\n",
       "      <td>008e5c_0</td>\n",
       "      <td>11</td>\n",
       "      <td>008e5c</td>\n",
       "      <td>0</td>\n",
       "      <td>CE</td>\n",
       "    </tr>\n",
       "    <tr>\n",
       "      <th>2</th>\n",
       "      <td>00c058_0</td>\n",
       "      <td>11</td>\n",
       "      <td>00c058</td>\n",
       "      <td>0</td>\n",
       "      <td>LAA</td>\n",
       "    </tr>\n",
       "    <tr>\n",
       "      <th>3</th>\n",
       "      <td>01adc5_0</td>\n",
       "      <td>11</td>\n",
       "      <td>01adc5</td>\n",
       "      <td>0</td>\n",
       "      <td>LAA</td>\n",
       "    </tr>\n",
       "    <tr>\n",
       "      <th>4</th>\n",
       "      <td>026c97_0</td>\n",
       "      <td>4</td>\n",
       "      <td>026c97</td>\n",
       "      <td>0</td>\n",
       "      <td>CE</td>\n",
       "    </tr>\n",
       "  </tbody>\n",
       "</table>\n",
       "</div>"
      ],
      "text/plain": [
       "   image_id  center_id patient_id  image_num label\n",
       "0  006388_0         11     006388          0    CE\n",
       "1  008e5c_0         11     008e5c          0    CE\n",
       "2  00c058_0         11     00c058          0   LAA\n",
       "3  01adc5_0         11     01adc5          0   LAA\n",
       "4  026c97_0          4     026c97          0    CE"
      ]
     },
     "execution_count": 3,
     "metadata": {},
     "output_type": "execute_result"
    }
   ],
   "source": [
    "df_train.head()"
   ]
  },
  {
   "cell_type": "code",
   "execution_count": 4,
   "id": "394602b5",
   "metadata": {
    "execution": {
     "iopub.execute_input": "2022-07-25T17:39:32.502308Z",
     "iopub.status.busy": "2022-07-25T17:39:32.501847Z",
     "iopub.status.idle": "2022-07-25T17:40:18.001308Z",
     "shell.execute_reply": "2022-07-25T17:40:17.999940Z"
    },
    "papermill": {
     "duration": 45.506377,
     "end_time": "2022-07-25T17:40:18.004071",
     "exception": false,
     "start_time": "2022-07-25T17:39:32.497694",
     "status": "completed"
    },
    "tags": []
   },
   "outputs": [],
   "source": [
    "import skimage.io as skio\n",
    "im1 = skio.imread('../input/mayo-clinic-strip-ai/train/006388_0.tif')\n",
    "\n"
   ]
  },
  {
   "cell_type": "code",
   "execution_count": null,
   "id": "c028c4ce",
   "metadata": {
    "papermill": {
     "duration": 0.002298,
     "end_time": "2022-07-25T17:40:18.009199",
     "exception": false,
     "start_time": "2022-07-25T17:40:18.006901",
     "status": "completed"
    },
    "tags": []
   },
   "outputs": [],
   "source": []
  }
 ],
 "metadata": {
  "kernelspec": {
   "display_name": "Python 3",
   "language": "python",
   "name": "python3"
  },
  "language_info": {
   "codemirror_mode": {
    "name": "ipython",
    "version": 3
   },
   "file_extension": ".py",
   "mimetype": "text/x-python",
   "name": "python",
   "nbconvert_exporter": "python",
   "pygments_lexer": "ipython3",
   "version": "3.7.12"
  },
  "papermill": {
   "default_parameters": {},
   "duration": 57.926298,
   "end_time": "2022-07-25T17:40:19.335975",
   "environment_variables": {},
   "exception": null,
   "input_path": "__notebook__.ipynb",
   "output_path": "__notebook__.ipynb",
   "parameters": {},
   "start_time": "2022-07-25T17:39:21.409677",
   "version": "2.3.4"
  }
 },
 "nbformat": 4,
 "nbformat_minor": 5
}
